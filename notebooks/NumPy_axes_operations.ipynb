{
 "cells": [
  {
   "cell_type": "markdown",
   "id": "28ce25bd-a7cc-45ba-b502-0b00f089facb",
   "metadata": {},
   "source": [
    "# NumPy Operations"
   ]
  },
  {
   "cell_type": "markdown",
   "id": "5f375c7b-ea30-469e-a8c4-84f036ce200c",
   "metadata": {},
   "source": [
    "In the _previous lesson_, you've seen how we can use NumPy to easily and efficiently apply operations to whole _arrays_ of numbers, rather than having to painstakinly apply them to each number individually.\n",
    "\n",
    "Now, we'll look in more detail on ways to control _how_ these operations are applied, especially in the (common) case of arrays having more than one dimension."
   ]
  },
  {
   "cell_type": "markdown",
   "id": "2280072b-353f-455b-a589-fc3685a505bb",
   "metadata": {},
   "source": [
    "## Learning outcomes"
   ]
  },
  {
   "cell_type": "markdown",
   "id": "887b7149-cdc4-425b-8d09-8a6ee27d1df8",
   "metadata": {},
   "source": [
    "- Build familiarity with multi-dimensional arrays of numbers in NumPy\n",
    "- Be able to access \"slices\" of data from multi-dimensional arrays\n",
    "- Perform basic statistical functions selectively along dimensions (\"axes\") of an array\n",
    "- Find the indices of the maximum and minimum elements of an array"
   ]
  },
  {
   "cell_type": "markdown",
   "id": "0fcbb3e5-f4ed-4f3d-8531-170168118656",
   "metadata": {},
   "source": [
    "Up until now, we've mostly been looking at _one-dimensional_ arrays -- basically, lists of numbers.  You can access _elements_ of this array by _index_ -- an integer specifying the location of the data in the array.\n",
    "\n",
    "However, there are many reasons we might want to use _multiple indices_ to organize our data, especially when these indices represent something more than just position in a list.  For instance, take the example from the previous lesson, where we have a list of temperatures of the same substance measured at several different times.  Let's say that each of these measurements was taken at a different time of day.  Therefore, your index also tells you what time of day the corresponding measurement was made.\n",
    "\n",
    "Now, let's say you repeat this experiment (repeated temperature measurements of the same substance) on several different days, but taking care to take the measurements at the same _times of day_ as your first series of measurements.  You could just put all the measurements into one list, but then it wouldn't be very easy to figure out which index (position in the overall list) corresponds to which day of measurement and which time of day.  It would be much nicer to have _two_ indices, one referring to the day of measurement and one referring to the time of day.\n",
    "\n",
    "In fact, NumPy arrays let you do exactly this -- you can create a _two-dimensional_ array with two indices specifying the location of a data point in the array.\n",
    "\n",
    "There are many ways we can create such an array, but let's just say for now that you've recorded your data by making lists of your observations from each day, and collected those lists into one overall list, like so:"
   ]
  },
  {
   "cell_type": "code",
   "execution_count": null,
   "id": "1e77cb01-1f98-40da-a3d3-b89d70b9f086",
   "metadata": {},
   "outputs": [],
   "source": [
    "import numpy as np"
   ]
  },
  {
   "cell_type": "code",
   "execution_count": null,
   "id": "24bf5d06-fb73-41a7-94a2-51e0799c9451",
   "metadata": {},
   "outputs": [],
   "source": [
    "from matplotlib import pyplot as plt"
   ]
  },
  {
   "cell_type": "markdown",
   "id": "f6e506d8-13de-45c8-9e4f-c1b86beb6bed",
   "metadata": {},
   "source": [
    "(data generation code at the end of the notebook)"
   ]
  },
  {
   "cell_type": "code",
   "execution_count": null,
   "id": "72a50b4d-2bba-4de4-ba0a-a424c6ca083c",
   "metadata": {},
   "outputs": [],
   "source": [
    "my_measurements = [[19.43, 20.84, 20.59, 21.51, 21.75, 22.08, 21.22],  # Day 1\n",
    "                   [19.63, 20.59, 20.96, 21.42, 21.69, 21.72, 21.33],  # Day 2\n",
    "                   [19.58, 20.63, 20.98, 21.23, 21.74, 21.59, 21.64],  # Day 3\n",
    "                   [19.19, 19.90, 20.66, 21.26, 21.28, 21.32, 20.71],  # Day 4\n",
    "                   [19.64, 20.20, 20.97, 21.32, 21.86, 21.80, 21.43]]  # Day 5\n",
    "times_of_day = [9.0, 11.0, 12.5, 13.5, 15.0, 17.0, 19.0]"
   ]
  },
  {
   "cell_type": "markdown",
   "id": "ac757314-83e1-4e2d-a320-8736222fc606",
   "metadata": {},
   "source": [
    "**Note:** What is missing from the above cell?  What additional information do we need to make this data meaningful and useful to other people?"
   ]
  },
  {
   "cell_type": "markdown",
   "id": "c2a83153-715a-4acd-b4e1-6fe1115518ae",
   "metadata": {},
   "source": [
    "And now we'll convert these rather unwieldy data structures into NumPy arrays, the usual way:"
   ]
  },
  {
   "cell_type": "code",
   "execution_count": null,
   "id": "6ed53150-93af-49ed-811a-b071d4a6661d",
   "metadata": {},
   "outputs": [],
   "source": [
    "measurements = np.array(my_measurements)\n",
    "times = np.array(times_of_day)"
   ]
  },
  {
   "cell_type": "code",
   "execution_count": null,
   "id": "590d8c7f-bee8-41b4-9056-f52353b7c08b",
   "metadata": {},
   "outputs": [],
   "source": [
    "measurements"
   ]
  },
  {
   "cell_type": "markdown",
   "id": "a30d5bf0-48c9-4e79-a618-3899f5cd4b2b",
   "metadata": {},
   "source": [
    "Looks pretty similar.  What happens when we try accessing an index of this array?"
   ]
  },
  {
   "cell_type": "markdown",
   "id": "347c4cc7-0562-42b0-972e-414fc2c5b66f",
   "metadata": {},
   "source": [
    "## Accessing elements of an array"
   ]
  },
  {
   "cell_type": "code",
   "execution_count": null,
   "id": "7730e210-526d-401f-b119-006ac61c2638",
   "metadata": {},
   "outputs": [],
   "source": [
    "measurements[2]"
   ]
  },
  {
   "cell_type": "markdown",
   "id": "7e6ad026-239c-4515-aa32-5c9c6f89dee7",
   "metadata": {},
   "source": [
    "We get a whole list of numbers!  This is one of the _rows_ of the above array -- technically, what we've just done is called \"_slicing_\" (more on that later).\n",
    "\n",
    "So how do we access an individual element?"
   ]
  },
  {
   "cell_type": "code",
   "execution_count": null,
   "id": "86fce8ad-5d53-4d78-9214-d8264c8ea167",
   "metadata": {},
   "outputs": [],
   "source": [
    "measurements[2, 0]"
   ]
  },
  {
   "cell_type": "markdown",
   "id": "d9a94c9c-0129-4f9a-b1c0-06a9bb03201d",
   "metadata": {},
   "source": [
    "Notice how we now have _two indices_, separated by a comma.  The first index selects the day and the second index selects the time of day.  Note how in the printed representation above, the _first index_ corresponds to the _row_ and the _second index_ corresponds to the _column_.  This is the same as the convention used in linear algebra for indexing elements of a matrix.\n",
    "\n",
    "On their own, however, these indices don't really tell us much.  For instance, how do we know what time of day a `0` corresponds to?  Luckily, we've already stored this information in another array:"
   ]
  },
  {
   "cell_type": "code",
   "execution_count": null,
   "id": "eb638a6f-9a2b-474d-bb1b-0709d122e500",
   "metadata": {},
   "outputs": [],
   "source": [
    "times[0]"
   ]
  },
  {
   "cell_type": "markdown",
   "id": "7e387455-1af5-47eb-be0c-713c3914bdd5",
   "metadata": {},
   "source": [
    "So 9am.  Later on, you'll learn how to use the `pandas` library to label our data axes in a way that is both easier to use and to understand, but for now it's simpler if we just stick to NumPy arrays."
   ]
  },
  {
   "cell_type": "markdown",
   "id": "5ec84e8e-29d5-4542-b1db-49956b221fdb",
   "metadata": {},
   "source": [
    "Now it's **your turn**.  How would you access the measurement made at 11am on Day 4?  How about 5pm on Day 1?"
   ]
  },
  {
   "cell_type": "markdown",
   "id": "1e6f33ef-5f0e-471a-a1f5-cc0f83c322ac",
   "metadata": {},
   "source": [
    "## Slicing"
   ]
  },
  {
   "cell_type": "markdown",
   "id": "57e837d6-ed5d-44ee-a69b-9823fff20444",
   "metadata": {},
   "source": [
    "Before, we saw that indexing our 2-d array with a single number actually gave us an entire _row_ of the array.  This is a special case of a behaviour called \"slicing\", which is a way to access multiple elements of an array at once.\n",
    "\n",
    "What if we wanted to access an entire _column_ of the array instead?  (In this case, all the measurements made at a given time of each day)"
   ]
  },
  {
   "cell_type": "code",
   "execution_count": null,
   "id": "be7922fc-9ce8-454e-9c24-4e9b528308df",
   "metadata": {},
   "outputs": [],
   "source": [
    "measurements[:, 2]"
   ]
  },
  {
   "cell_type": "markdown",
   "id": "ecf40f14-3476-43a1-97e0-16b88cc47eaf",
   "metadata": {},
   "source": [
    "This gives us all measurements made at 12:30 on each of the 5 days:"
   ]
  },
  {
   "cell_type": "code",
   "execution_count": null,
   "id": "d481d7e8-e9b9-42b7-a65a-9374c4b429ac",
   "metadata": {},
   "outputs": [],
   "source": [
    "times[2]"
   ]
  },
  {
   "cell_type": "markdown",
   "id": "dc38e5e4-9731-46cc-b0e4-eb1c7c417ccd",
   "metadata": {},
   "source": [
    "Notice this syntax looks very similar to the two-index form we used to access individual elements above.  We've just replaced one of the indices (the row index) with a colon (`:`), which tells NumPy to give us _all_ the rows for the selected column index.\n",
    "\n",
    "We can also do this to select rows:"
   ]
  },
  {
   "cell_type": "code",
   "execution_count": null,
   "id": "07e07474-754a-4135-9960-de2d6a061e78",
   "metadata": {},
   "outputs": [],
   "source": [
    "measurements[2, :]"
   ]
  },
  {
   "cell_type": "markdown",
   "id": "09c24074-4720-46bc-966a-5cb2caf3c348",
   "metadata": {},
   "source": [
    "which gives us the same result as the first indexing statement we tried (`measurements[2]`).  In fact, if you specify fewer _indices_ than the array has _dimensions_, NumPy will automatically add colons (\"select all\") at the end, corresponding to the remaining (unspecified) dimensions."
   ]
  },
  {
   "cell_type": "markdown",
   "id": "13d273d9-4306-4ab8-84a0-b22a52d9ec82",
   "metadata": {},
   "source": [
    "## Axes 🪓🪓🪓"
   ]
  },
  {
   "cell_type": "markdown",
   "id": "cb88caa0-6438-450f-9500-0e5d77b52931",
   "metadata": {},
   "source": [
    "(no, not that kind...)"
   ]
  },
  {
   "cell_type": "markdown",
   "id": "322dbc96-33dc-4f1e-92f8-49df2642ac44",
   "metadata": {},
   "source": [
    "We've used the term \"indices\" and \"dimensions\" somewhat interchangeably a few times, and now, unfortunately, we'll be introducing another near-synonym: **axes** (plural of \"axis\").  This is the term that the NumPy documentation formally uses to refer to each of the dimensions of an array. For instance, in a statement such as:\n",
    "\n",
    "    measurements[2, 0]\n",
    "\n",
    "we say we're selecting _index_ 2 along _axis 0_ (remember, in Python we almost always start counting from zero...), and _index_ 0 along _axis_ 1.  The array has two _dimensions_ in total.  (Confused yet?)\n",
    "\n",
    "Why is all this terminology relevant?  For one, you'll need it to understand the NumPy documentation.  Let's take a look at the documentation for a simple function:"
   ]
  },
  {
   "cell_type": "code",
   "execution_count": null,
   "id": "b230b206-8cf6-4a53-a19c-b9cf67da3df3",
   "metadata": {
    "scrolled": true
   },
   "outputs": [],
   "source": [
    "?np.mean"
   ]
  },
  {
   "cell_type": "markdown",
   "id": "74e6aa53-491c-4595-949c-92c34222b3f3",
   "metadata": {},
   "source": [
    "There's a lot of information there we still don't need, but let's focus on the paragraph:\n",
    "\n",
    "    Returns the average of the array elements.  The average is taken over\n",
    "    the flattened array by default, otherwise over the specified axis.\n",
    "    ...\n",
    "\n",
    "What does this mean?  First, let's see what this default behaviour is:"
   ]
  },
  {
   "cell_type": "code",
   "execution_count": null,
   "id": "11ab63d1-da2a-418a-ae05-019f021c7dc8",
   "metadata": {},
   "outputs": [],
   "source": [
    "np.mean(measurements)"
   ]
  },
  {
   "cell_type": "markdown",
   "id": "7ceca933-ef41-40f7-b299-d865462f8d32",
   "metadata": {},
   "source": [
    "It's taken the average over the _whole array_, without regard to the structure or dimensions (hence, \"flattened\").  But part of the reason we organized it into two dimensions was that we could keep track of this structure, i.e. look at the day and time of measurement independently.  What if we want to take the average only over the _time of day_, while keeping the _days_ themselves independent?"
   ]
  },
  {
   "cell_type": "markdown",
   "id": "41ff6400-3b7d-40f8-b306-8ef8caff5881",
   "metadata": {},
   "source": [
    "In NumPy terminology, we'd be taking the average (mean) _along the axis_ representing time of day.  Since we use the second axis to select the time of day, this means we're averaging along axis 1 (we count from zero, remember)."
   ]
  },
  {
   "cell_type": "code",
   "execution_count": null,
   "id": "863c882b-b930-4c2a-8031-e6aadaf7b760",
   "metadata": {},
   "outputs": [],
   "source": [
    "np.mean(measurements, axis=1)"
   ]
  },
  {
   "cell_type": "markdown",
   "id": "a8b1d4d5-7a4b-474a-b901-763ca2a50f85",
   "metadata": {},
   "source": [
    "Other summary statistics functions work in a similar way:"
   ]
  },
  {
   "cell_type": "code",
   "execution_count": null,
   "id": "153ddfa9-adc5-40d8-ad24-7fe766157641",
   "metadata": {},
   "outputs": [],
   "source": [
    "# Standard deviation with the \"N-1\" correction for small sample sizes\n",
    "# This is sometimes called \"Bessel's correction\"\n",
    "np.std(measurements, axis=1, ddof=1)"
   ]
  },
  {
   "cell_type": "markdown",
   "id": "96cd2a4a-ec8a-4636-8278-2f86b8fe2739",
   "metadata": {},
   "source": [
    "It seems there's a fair amount of variation over the course of a single day.  What about between the individual days?  And let's keep the times of day separate to see what that variation might look like."
   ]
  },
  {
   "cell_type": "code",
   "execution_count": null,
   "id": "c569f63c-1519-4f58-85ea-3b21e5088507",
   "metadata": {},
   "outputs": [],
   "source": [
    "measurement_time_means = np.mean(measurements, axis=0)\n",
    "measurement_time_means"
   ]
  },
  {
   "cell_type": "code",
   "execution_count": null,
   "id": "b12f0812-f3c4-4b45-a8dc-ad207664dc97",
   "metadata": {},
   "outputs": [],
   "source": [
    "np.std(measurements, axis=0, ddof=1)"
   ]
  },
  {
   "cell_type": "markdown",
   "id": "d90b2491-d6e7-4118-bdb5-f2d936c808ab",
   "metadata": {},
   "source": [
    "Now, given what you know about statistics:  Is there a statistically significant difference between the temperatures measured at different times of day?\n",
    "\n",
    "Let's take the smallest and largest temperatures and do a classic hypothesis test.  We'll use the _standard deviation of the mean_ here, since we're comparing two means:"
   ]
  },
  {
   "cell_type": "code",
   "execution_count": null,
   "id": "3608c492-ae66-4422-a572-d042cbcc5022",
   "metadata": {},
   "outputs": [],
   "source": [
    "st_means = np.std(measurements, axis=0, ddof=1) / np.sqrt(5)"
   ]
  },
  {
   "cell_type": "code",
   "execution_count": null,
   "id": "51e24f04-9210-4f5a-85ff-e93c765dfe76",
   "metadata": {},
   "outputs": [],
   "source": [
    "st_means"
   ]
  },
  {
   "cell_type": "code",
   "execution_count": null,
   "id": "155f0b90-4af9-4f4b-bbc8-de590c34d84e",
   "metadata": {},
   "outputs": [],
   "source": [
    "# Compute the \"t-score\"\n",
    "(21.702 - 19.494) / np.sqrt(0.085**2 + 0.125**2)"
   ]
  },
  {
   "cell_type": "markdown",
   "id": "4d456d53-2cfa-46a1-99b5-8bc0b3fe7ed2",
   "metadata": {},
   "source": [
    "This suggests the difference between the two values is more than 14 times the standard deviation of a hypothetical Gaussian distribution, if we assume that both values were drawn from the same distribution.  This seems highly unlikely (it would definitely pass the \"$p$-test\", as the \"$p$-value\" is less than the magical value of 0.05 at differences larger than about 3 times the standard deviation).  Therefore, we can reject the \"null hypothesis\" and say that the two values are clearly different.\n",
    "\n",
    "(There's a _lot_ of statistical rigor being glossed over here, not the least of which being that we're using _incredibly small_ sample sizes here, so the typical tools of statistics don't really work, and also we should be using a Student's $t$-test rather than assuming a Gaussian distribution -- the main point is, the two averages are _clearly_ different, and almost any rigorous statistical test you could apply here would tell you as much.)"
   ]
  },
  {
   "cell_type": "markdown",
   "id": "8a10beea-de5c-4e30-bf11-758d41ef43c9",
   "metadata": {},
   "source": [
    "## Getting unknown indices"
   ]
  },
  {
   "cell_type": "markdown",
   "id": "2e5d0632-6ea3-4115-824d-44d6cc8d7a97",
   "metadata": {},
   "source": [
    "In the test above, we just manually copied and pasted the largest and smallest array values from visual inspection.  This is fine for a short demo, but in real applications with lots of data we'll need a more systematic, automatic approach.\n",
    "\n",
    "We already know how to get the maximum and minimum array _values_ -- there are NumPy functions that do this:"
   ]
  },
  {
   "cell_type": "code",
   "execution_count": null,
   "id": "0f132ce4-3474-4c26-96d5-ac400f3679c1",
   "metadata": {},
   "outputs": [],
   "source": [
    "np.max(measurement_time_means)"
   ]
  },
  {
   "cell_type": "code",
   "execution_count": null,
   "id": "492ab1a5-de56-4a44-91f3-6d08d65120cf",
   "metadata": {},
   "outputs": [],
   "source": [
    "np.min(measurement_time_means)"
   ]
  },
  {
   "cell_type": "markdown",
   "id": "749ed217-4a26-4afb-807e-b4787fe2dc16",
   "metadata": {},
   "source": [
    "But what if we want to find out _where_ in the array these values occur?  Luckily, there are NumPy functions for this too, they just have less intuitive names:"
   ]
  },
  {
   "cell_type": "code",
   "execution_count": null,
   "id": "9939b289-27eb-4416-b15e-dcab8c09086b",
   "metadata": {},
   "outputs": [],
   "source": [
    "# Think \"argument of the max\", as in \"index\" of maximum value\n",
    "np.argmax(measurement_time_means)"
   ]
  },
  {
   "cell_type": "code",
   "execution_count": null,
   "id": "9f3a8264-9af6-4ce0-8204-48ac0dd0d934",
   "metadata": {},
   "outputs": [],
   "source": [
    "measurement_time_means[np.argmax(measurement_time_means)]"
   ]
  },
  {
   "cell_type": "code",
   "execution_count": null,
   "id": "fca0b382-e806-41e8-87d2-97ee86f0effc",
   "metadata": {},
   "outputs": [],
   "source": [
    "np.argmin(measurement_time_means)"
   ]
  },
  {
   "cell_type": "markdown",
   "id": "75560f1a-9bdd-41ce-8469-48390bdbddd5",
   "metadata": {},
   "source": [
    "These functions are handy for finding the _corresponding value_ in an array of the same size, where the axis you're indexing represents the same thing.  For instance: What if we want to know the time of day that the maximum and minimum (mean) temperature occurs?"
   ]
  },
  {
   "cell_type": "code",
   "execution_count": null,
   "id": "427c0f0b-e755-410f-9caa-3e7dd715e8f4",
   "metadata": {},
   "outputs": [],
   "source": [
    "times[np.argmax(measurement_time_means)]"
   ]
  },
  {
   "cell_type": "code",
   "execution_count": null,
   "id": "cc2528da-6332-46db-919a-351c2bf3fa2b",
   "metadata": {},
   "outputs": [],
   "source": [
    "times[np.argmin(measurement_time_means)]"
   ]
  },
  {
   "cell_type": "markdown",
   "id": "640880a6-1bd3-4594-8d70-2c12f416cfe1",
   "metadata": {},
   "source": [
    "So our highest (average) temperature is measured at 5pm and the lowest is at 9am."
   ]
  },
  {
   "cell_type": "markdown",
   "id": "ba892745-a144-41ba-8736-bb998fc5f2f2",
   "metadata": {},
   "source": [
    "Now, it's **your turn**!  Please _use_ the `argmin` and `argmax` functions to perform the hypothesis test above.  As a reminder, we need to:\n",
    "\n",
    "- Find the maximum and minimum values of the `measurement_time_means` array\n",
    "- Find the corresponding _standard deviation of the mean_ in the `st_means` array\n",
    "- Compute the difference between the maximum and minimum (mean) temperatures\n",
    "- Compute the standard deviation of the (hypothetical) Gaussian distribution of differences by adding the _variances_: $\\sigma_\\mathrm{diff} = \\sqrt{\\sigma_1^2 + \\sigma_2^2}$\n",
    "- Divide the difference by the combined standard deviation to get the $t$-score.  You should get the same answer (about 14.6) as above."
   ]
  },
  {
   "cell_type": "code",
   "execution_count": null,
   "id": "bf89e6fd-f958-41d1-a7eb-150c3a273db2",
   "metadata": {},
   "outputs": [],
   "source": [
    "temp_max = np.max(measurement_time_means)\n",
    "st_mean_max = st_means[np.argmax(measurement_time_means)]\n",
    "\n",
    "# Do the same for the min\n",
    "\n",
    "# Compute the temperature difference\n",
    "\n",
    "# Compute the combined standard deviation\n",
    "\n",
    "# Compute the t-score"
   ]
  },
  {
   "cell_type": "markdown",
   "id": "1eeb23a1-bb2b-4210-b78a-a36f0c726a64",
   "metadata": {},
   "source": [
    "# TODO\n",
    "\n",
    "- Argmax/min in multiple dimensions?\n",
    "- Application: Find the center of geometry (COG) of a molecule given its coordinates.  Subtract this from the coordinates (broadcasting!) to get the coordinates in the COG frame.\n",
    "- Introduce broadcasting!\n",
    "- Application: Now compute the center of mass (COM) by weighting the coordinates by the corresponding atomic masses.\n",
    "- Any other indexing / multi-D / slicing topics or applications?"
   ]
  },
  {
   "cell_type": "markdown",
   "id": "1236ae69-c1c3-40e0-bff9-7dcbe8fa3636",
   "metadata": {},
   "source": [
    "# Data generation code (should stay hidden)"
   ]
  },
  {
   "cell_type": "code",
   "execution_count": null,
   "id": "69d7d5c2-abce-492e-b7ee-04e9751d8dc2",
   "metadata": {},
   "outputs": [],
   "source": [
    "base_hours = np.array([9.0, 11.0, 12.5, 13.5, 15.0, 17.0, 19.0])\n",
    "base_trend = np.cos((base_hours - 4) * np.pi / 12.) * -1.8 + 20.0\n",
    "noise_points = np.random.normal(size=(5, 7)) * 0.15\n",
    "meas_pts = base_trend + noise_points"
   ]
  },
  {
   "cell_type": "code",
   "execution_count": null,
   "id": "ab92c71d-fa5c-4a9f-a7e2-1494a17cbd59",
   "metadata": {},
   "outputs": [],
   "source": [
    "# Simulate a systematic measurement error one one day only\n",
    "meas_pts[3] -= 0.4"
   ]
  },
  {
   "cell_type": "code",
   "execution_count": null,
   "id": "0a96bf7d-e304-4cd1-a24f-56f297064f7d",
   "metadata": {},
   "outputs": [],
   "source": [
    "meas_pts"
   ]
  },
  {
   "cell_type": "code",
   "execution_count": null,
   "id": "52b74e6d-6744-4acd-a17f-9df9c76b1948",
   "metadata": {},
   "outputs": [],
   "source": [
    "plt.plot(base_hours, base_trend)\n",
    "for series in meas_pts:\n",
    "    plt.scatter(base_hours, series)"
   ]
  },
  {
   "cell_type": "code",
   "execution_count": null,
   "id": "358cf0e0-a197-4c38-b3bb-aad77748c1f3",
   "metadata": {},
   "outputs": [],
   "source": [
    "print(np.array2string(meas_pts, precision=2, separator=', ', floatmode='fixed'))"
   ]
  },
  {
   "cell_type": "code",
   "execution_count": null,
   "id": "b9a64e44-1823-440c-b02f-d70126b94a3d",
   "metadata": {},
   "outputs": [],
   "source": []
  }
 ],
 "metadata": {
  "kernelspec": {
   "display_name": "Python 3 (ipykernel)",
   "language": "python",
   "name": "python3"
  },
  "language_info": {
   "codemirror_mode": {
    "name": "ipython",
    "version": 3
   },
   "file_extension": ".py",
   "mimetype": "text/x-python",
   "name": "python",
   "nbconvert_exporter": "python",
   "pygments_lexer": "ipython3",
   "version": "3.13.0"
  }
 },
 "nbformat": 4,
 "nbformat_minor": 5
}
