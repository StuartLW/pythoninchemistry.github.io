{
 "cells": [
  {
   "cell_type": "markdown",
   "id": "db5b621f-285a-4035-86f8-129e4382a8b5",
   "metadata": {},
   "source": [
    "# Functions and Scope\n",
    "\n",
    "## Prerequisites:\n",
    "\n",
    "- Variables and Data Types\n",
    "- Mathematical Operators\n",
    "- Conditional Execution\n",
    "- Loops\n",
    "- Lists, Dictionaries and Tuples\n",
    "\n",
    "## Learning Objectives:\n",
    "\n",
    "- To learn how to re-run code which will be used often\n",
    "- To understand the purpose of a function\n",
    "- Understanding how function arguments work\n",
    "- Understanding how functions return information\n",
    "  \n",
    "  \n"
   ]
  },
  {
   "cell_type": "markdown",
   "id": "1c23b1aa-bffb-4400-867c-042a065273f8",
   "metadata": {},
   "source": [
    "When running Python scripts, we often use statements to change or read the values of variables. Take the following code, for instance, which looks to add up the values of numbers in a list. Here we can use it to generate the molecular mass of a molecule from a list of atomic masses. The script iterates through the list, and adds each element in it to a running total variable, which at the end of the function contains the total:"
   ]
  },
  {
   "cell_type": "code",
   "execution_count": null,
   "id": "9c60cd53-dab9-4810-9ec2-6bc1914af9a9",
   "metadata": {},
   "outputs": [],
   "source": [
    "m1 = [12,12,1,1,1,1]\n",
    "\n",
    "m1_total = 0\n",
    "\n",
    "for i in m1:\n",
    "    m1_total += i\n",
    "\n",
    "print(m1_total)\n"
   ]
  },
  {
   "cell_type": "markdown",
   "id": "6603b780-f776-4993-9f61-b02a303b5e8a",
   "metadata": {},
   "source": [
    "This code works well to add up the numbers in the list, and if we're just doing this once, will serve perfectly fine. However, if you had another list you needed to add up this way, you would need to write this expression again. If you had 100 lists, you could be spending a lot of time writing just these few lines of code."
   ]
  },
  {
   "cell_type": "markdown",
   "id": "c4c048a9-fa8c-43d2-ae91-48939a2d02c2",
   "metadata": {},
   "source": [
    "## Defining functions:\n",
    "\n",
    "Functions offer a way for us to package up frequently-run code into an easily callable package, which we can call repeatedly. Let's now wrap the code used to add up the list elements in a function, called `add_up`"
   ]
  },
  {
   "cell_type": "code",
   "execution_count": null,
   "id": "d03d38ba-1447-4f03-86b0-6c09c09297af",
   "metadata": {},
   "outputs": [],
   "source": [
    "def add_up(list_of_atoms):\n",
    "    total = 0\n",
    "    for atom in list_of_atoms:\n",
    "        total += atom\n",
    "    return total\n",
    "\n"
   ]
  },
  {
   "cell_type": "markdown",
   "id": "59c43866-bfd3-4e98-abe9-fa41d97cf5b1",
   "metadata": {},
   "source": [
    "To turn our adding up into a function, we have added a line before and after. To start with, we have added the statement `def add_up(list_of_atoms):` to the start of our code. This tells Python that we are defining a function, and that it is to treat all indented lines following the colon as part of the function. The `list_of_atoms` contained within the brackets is the function's _argument_. Functions can take many arguments (or none) but this function just takes one: the list which we are asking it to add up. \n",
    "\n",
    "Following the iterative adding process, the function is asked to `return` the total. Whatever is on the return line of the function is what the function will give back once it has finished running. Occasionally functions will just end in `return`, but generally something should be put on this line so that the function can pass it back. \n",
    "\n",
    "Below, we use our new `add_up` function to perform the same operation on `l1` and store the result in variable `x`:"
   ]
  },
  {
   "cell_type": "code",
   "execution_count": null,
   "id": "4a30ee2e-a69a-4495-b681-cb58d2437655",
   "metadata": {},
   "outputs": [],
   "source": [
    "x = add_up(m1)\n",
    "\n",
    "print(x)"
   ]
  },
  {
   "cell_type": "markdown",
   "id": "d417fb60-282e-4457-a911-c0f94b50afb4",
   "metadata": {},
   "source": [
    "Here you may be asking why we need the `return total` statement in our code, as we should be able to reference just the variable `total` which is used as our running total during the function's loop. However, if we try that, we will get an error:"
   ]
  },
  {
   "cell_type": "code",
   "execution_count": null,
   "id": "f8a25e4c-cd67-4ae3-a784-a8f7b1078cd2",
   "metadata": {},
   "outputs": [],
   "source": [
    "x = add_up(m1)\n",
    "\n",
    "print(total)"
   ]
  },
  {
   "cell_type": "markdown",
   "id": "fc7bffb4-2db8-4ab2-9570-49a13975ec9b",
   "metadata": {},
   "source": [
    "Here, Python is telling us that the variable named `total` is not defined. This highlights an important feature of functions in Python. Functions only return what is included on the return line, and any other variables which we define in them which are not returned are lost once the function has finished executing. However, this is not true the other way around. Functions *do* have access to variables which have not been given to them explicitly as arguments. See below that we can initialise a variable `foo` which contains the string `\"bar\"`. We can then also initialise the function `readfoo()` which takes no arguments, but prints the value of the variable `foo`. If we call this function, we can see that the string `bar` is printed to the console. This shows us that even though we did not explicitly pass the variable `foo` to our function, it was able to find the value of the variable `foo` and output it to the console anyway. This is because `foo`, having been declared in our main script, is a *global* variable, in contrast to function variables, which are *local* variables. Remember that if you see an error like this in your code output, it is likely because you have referenced a value which only exists inside the function from outside of it. "
   ]
  },
  {
   "cell_type": "code",
   "execution_count": null,
   "id": "b8cdf670-d3e8-4504-8240-4628fd65ec6a",
   "metadata": {},
   "outputs": [],
   "source": [
    "foo = \"bar\"\n",
    "\n",
    "\n",
    "def readfoo():\n",
    "    print(foo)\n",
    "    return\n",
    "\n",
    "readfoo() # Note here that even though readfoo takes no arguments, we still need to supply some empty brackets after it when calling it.\n"
   ]
  },
  {
   "cell_type": "markdown",
   "id": "10374f42-0a0f-4457-b3b7-b0f8443d3fd9",
   "metadata": {},
   "source": [
    "## Calling functions:\n",
    "\n",
    "Now that we've written our `add_up` function, we can use it to add up lots of lists very quickly. Here, we can define a list of lists, then iterate through that to provide a list of their totals. To call the function, all we need to do is write the name of the function, and enclose the list on which we would like it to operate in the brackets:"
   ]
  },
  {
   "cell_type": "code",
   "execution_count": null,
   "id": "6f554c80-ff5a-4db0-b432-ef087b1d5252",
   "metadata": {},
   "outputs": [],
   "source": [
    "many_sets_of_atoms = [\n",
    "    [12,12,1,1,1,1],\n",
    "    [12,1,1,1,12,16,12,1,1,1],\n",
    "    [12,12,12,12,12,12]\n",
    "]\n",
    "\n",
    "totals = []\n",
    "\n",
    "for atom_set in many_sets_of_atoms:\n",
    "    set_total = add_up(atom_set)\n",
    "    totals.append(set_total)\n",
    "\n",
    "\n",
    "print(totals)"
   ]
  },
  {
   "cell_type": "markdown",
   "id": "8e0c9d02-ebf4-4467-83d5-d281a3cb6132",
   "metadata": {},
   "source": [
    "In the example above, we are actually calling two functions every time our loop executes. The first is the `add_up` function which we have written, but the second is a the function we use to add the number to the list. We call the `list.append()` function, which adds its argument to the end of the list. Note here that the dot `.` between the `totals` and `append` is a signifier that this append function is specifically associated with the list stored in the `totals` variable. This type of function is quite common in Python, but is outside the scope of this lesson. For now, the important thing to note from this is that due to this association, we do not need to pass the `totals` list as an argument to the `append` function. \n",
    "\n",
    "Python has a huge amount of pre-set functions, many of which you may have already used. The `print()` and `type()` functions are ubiquitious in Python programming, but there are also many other functions which are pre-packaged in Python. In fact, the function that we have been looking at so far, `add_up()` replicates the behaviour of the inbuilt Python `sum()` function. "
   ]
  },
  {
   "cell_type": "markdown",
   "id": "cfd2f639-6eb3-4378-8c31-8f391d7ddbdf",
   "metadata": {},
   "source": [
    "## More complex functions\n",
    "\n",
    "So far we have covered basic functions, but there are more complex facets to function writing. In this section, we will look at a few of these facets, although there are many more which will not be covered here.\n",
    "\n",
    "### Multiple return conditions\n",
    "\n",
    "Functions we have written so far have only had one return statment right at the end. This is not, however, a requirement. A function can have a return statement anywhere, and it can have more than one. This is usually encountered when functions contain if statements, where depending on whether the conditions are met, different sections of the function may execute. Take the below function, for example, which checks if a supplied letter is a vowel or not:\n",
    "\n"
   ]
  },
  {
   "cell_type": "code",
   "execution_count": null,
   "id": "03ea1aea-92db-4b13-97cd-ef159f206cd3",
   "metadata": {},
   "outputs": [],
   "source": [
    "def is_vowel(letter):\n",
    "    if type(letter) is not str or len(letter) != 1:\n",
    "        print(\"Input must be a single character\")\n",
    "        return None\n",
    "    elif letter in [\"a\",\"e\",\"i\",\"o\",\"u\"]:\n",
    "        return True\n",
    "    else:\n",
    "        return False"
   ]
  },
  {
   "cell_type": "markdown",
   "id": "354eeb4c-e5bf-42ed-b877-9550d7f30730",
   "metadata": {},
   "source": [
    "There are three different possible return values in the above function, depending on the input. The first conditional statement confirms that a single character has been passed to the function as a string. There are more sophisticated ways to handle this sort of error, but these are outside the scope of this lesson. The key thing here is that based on this test, we can have the function return `None` rather than true or false, if an incompatible input is supplied. Following this, the function uses if/else tests to check if the single character is a vowel or not. \n",
    "\n",
    "We can also return more than one thing on the return line. If we define a function which uses the inbuilt python `min()` and `max()` functions to return the largest and smallest items in a list, we can return both in one statement:"
   ]
  },
  {
   "cell_type": "code",
   "execution_count": null,
   "id": "1fcf6271-7e69-43c3-bd14-de1e1aff0c7f",
   "metadata": {},
   "outputs": [],
   "source": [
    "def minmax(number_list):\n",
    "    min_value = min(number_list)\n",
    "    max_value = max(number_list)\n",
    "    return min_value, max_value"
   ]
  },
  {
   "cell_type": "code",
   "execution_count": null,
   "id": "279c982c-39a6-4414-a5e9-487979d3eb8e",
   "metadata": {},
   "outputs": [],
   "source": [
    "x = minmax([1,2,3])\n",
    "\n",
    "print(x)\n",
    "\n",
    "y,z = minmax([1,2,3])\n",
    "\n",
    "print(y)\n",
    "print(z)"
   ]
  },
  {
   "cell_type": "markdown",
   "id": "9db49603-743b-43ee-9351-3a3cf09a8008",
   "metadata": {},
   "source": [
    "As you can see above, when we store the output of this function in a single variable, it is returned as a tuple containing both values. However, in Python we can also use the multiple assignment variable unpacking feature to assign the minimum and maximum values in a single statement. This sort of behaviour is useful when we want to return and assign multiple variables from a single function."
   ]
  },
  {
   "cell_type": "markdown",
   "id": "14e8bd90-4002-4b5e-92eb-8a6fe0eee1a1",
   "metadata": {},
   "source": [
    "# Debugging\n",
    "\n",
    "The following code chunks have errors in them. See what output the chunk is currently providing, and fix the errors to give the expected output"
   ]
  },
  {
   "cell_type": "code",
   "execution_count": null,
   "id": "47374f25-3d38-4b46-9442-acdff2dddd26",
   "metadata": {},
   "outputs": [],
   "source": [
    "def say_hello():\n",
    "    print(\"Hello World\")\n",
    "\n",
    "\n",
    "say_hello\n",
    "\n",
    "#Expected output: Hello World"
   ]
  },
  {
   "cell_type": "markdown",
   "id": "4b8b293d-cc79-40e9-a83c-b8f75454aec2",
   "metadata": {},
   "source": [
    "# Exercises:\n",
    "\n",
    "1. Write a function that takes one argument, `num`, and returns `True` if it is even and `False` if it is odd. \n",
    "\n",
    "Remember that the modulo operator (%) returns the remainder of the left hand quantity when divided by the right hand quantity."
   ]
  },
  {
   "cell_type": "code",
   "execution_count": null,
   "id": "950d5308-327c-41f4-9560-3d96e72996e2",
   "metadata": {},
   "outputs": [],
   "source": []
  },
  {
   "cell_type": "markdown",
   "id": "abf7a379-edaf-4d04-857a-ba5ffccd01c4",
   "metadata": {},
   "source": [
    "2. Using your function above, write a function which takes a list of integers, and returns only the even integers of this list"
   ]
  },
  {
   "cell_type": "code",
   "execution_count": null,
   "id": "cbe33a5b-28c9-433f-a8ab-8bea29570d2b",
   "metadata": {},
   "outputs": [],
   "source": []
  },
  {
   "cell_type": "markdown",
   "id": "7a07fe93-0917-4b8b-ac26-cc6c13353b25",
   "metadata": {},
   "source": [
    "3. The function `add_up()` defined earlier in the document accepted a list of atomic masses. However, molecules are more generally referred to using formulae rather than lists of masses. Write a series of functions as directed in the comments in the cell below to allow calculation of molecular masses from molecular formulae for simple organic molecules:"
   ]
  },
  {
   "cell_type": "code",
   "execution_count": null,
   "id": "991aba54-f8ab-4431-aba2-36fd3843401a",
   "metadata": {},
   "outputs": [],
   "source": [
    "# Write a function to look up the atomic mass of an atom based on its chemical symbol. Use the dictionary below to reference the masses. \n",
    "# Don't worry about other elements for the time being, you can assume that these are the only elements that matter (pretend you're an organic chemist)\n",
    "\n",
    "atom_masses = {\n",
    "    \"C\" : 12,\n",
    "    \"H\" : 1,\n",
    "    \"O\" : 16,\n",
    "    \"N\" : 14\n",
    "}\n",
    "\n",
    "\n",
    "\n",
    "\n",
    "# Now write a function to take a list of atomic numbers, and apply your function above to each element in turn to provide a list of masses\n",
    "\n",
    "\n",
    "\n",
    "# Finally, define a function which calls the two above in combination, accepting a list of elemental symbols and returning a mass value\n",
    "\n",
    "\n",
    "\n",
    "    \n",
    "\n",
    "\n"
   ]
  },
  {
   "cell_type": "code",
   "execution_count": null,
   "id": "1aa7bd24-0487-4ff2-b961-b2ba35850f11",
   "metadata": {},
   "outputs": [],
   "source": []
  },
  {
   "cell_type": "markdown",
   "id": "203732e1-509b-436a-a2b3-fcde5b3d8ab6",
   "metadata": {},
   "source": [
    "# Answers"
   ]
  },
  {
   "cell_type": "code",
   "execution_count": null,
   "id": "e14aea88-2dd4-486a-8a11-ba69db8256c5",
   "metadata": {},
   "outputs": [],
   "source": [
    "# Problem 1:\n",
    "\n",
    "def is_even(num):\n",
    "    if num%0 == 0:\n",
    "        return True\n",
    "    else:\n",
    "        return False\n",
    "# Problem 2:\n",
    "\n",
    "def keep_evens(num_list):\n",
    "    evens = []\n",
    "    for num in num_list:\n",
    "        if is_even(num):\n",
    "            evens.append(num)\n",
    "\n",
    "    return evens\n",
    "    "
   ]
  },
  {
   "cell_type": "markdown",
   "id": "26af8885-0ec8-4421-8947-89f371cf350f",
   "metadata": {},
   "source": [
    "TODO:\n",
    "\n",
    "- More relation to chemistry in some of the later examples?\n",
    "- Discussion of use of *args etc to supply multiple arguments to a function\n",
    "- Answer to Q3\n",
    "- More debugging exercises\n",
    "- Discussion of recursion?\n",
    "- Defining functions within functions - further discussion of scope\n",
    "- Default arguments\n",
    "\n",
    "Please email theo.tanner@chem.ox.ac.uk with any questions"
   ]
  },
  {
   "cell_type": "code",
   "execution_count": null,
   "id": "a571c19b-6970-4073-8a24-4cf10d757fb8",
   "metadata": {},
   "outputs": [],
   "source": []
  }
 ],
 "metadata": {
  "kernelspec": {
   "display_name": "Python 3 (ipykernel)",
   "language": "python",
   "name": "python3"
  },
  "language_info": {
   "codemirror_mode": {
    "name": "ipython",
    "version": 3
   },
   "file_extension": ".py",
   "mimetype": "text/x-python",
   "name": "python",
   "nbconvert_exporter": "python",
   "pygments_lexer": "ipython3",
   "version": "3.12.5"
  }
 },
 "nbformat": 4,
 "nbformat_minor": 5
}
