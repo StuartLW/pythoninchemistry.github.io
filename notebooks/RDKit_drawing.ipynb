{
  "nbformat": 4,
  "nbformat_minor": 0,
  "metadata": {
    "colab": {
      "provenance": []
    },
    "kernelspec": {
      "name": "python3",
      "display_name": "Python 3"
    },
    "language_info": {
      "name": "python"
    }
  },
  "cells": [
    {
      "cell_type": "markdown",
      "source": [
        "# Prerequisites:\n",
        "- Importing libraries\n",
        "- Molecule objects in RDKit\n",
        "- SMILES molecular line notation\n",
        "- Molecular file formats (MDF Mol)\n",
        "\n",
        "# Learning outcomes\n",
        "- Become familiar with the use of RDKit to draw 2D molecular structures\n",
        "- Use both SMILES strings and molecule files as input to create RDKit molecule objects"
      ],
      "metadata": {
        "id": "Lck-NAtqxj-h"
      }
    },
    {
      "cell_type": "markdown",
      "source": [
        "# Drawing molecules with RDKit\n",
        "\n",
        "RDKit is a free, massively powerful library of cheminformatics tools. An overview of the RDKit package (and its full documentation) can be accessed here https://www.rdkit.org/docs/Overview.html\n",
        "\n",
        "\n",
        "The RDKit Python library makes drawing molecules simple. It requires two steps:\n",
        "\n",
        "\n",
        "1.   Create a molecule object that RDKit can operate on\n",
        "2.   Use the Draw function in RDKit's chemistry module to create the 2D image corresponding to the molecule object\n",
        "\n",
        "In order to do this, we must first tell Python to import the requires functionality from the RDKit package. Then, we are free to build our molecule and plot it.\n",
        "\n",
        "\n",
        "# SMILES\n",
        "Here we specify the molecular structure using the Simplified Molecular Input Line Entry System (SMILES) notation.\n",
        "\n",
        "Inspect, then run the following code to draw the benzene molecule."
      ],
      "metadata": {
        "id": "1p_TIbTe1msT"
      }
    },
    {
      "cell_type": "code",
      "source": [
        "from rdkit import Chem\n",
        "from rdkit.Chem import Draw\n",
        "m1 = Chem.MolFromSmiles('c1ccccc1')\n",
        "Draw.MolToImage(m1)"
      ],
      "metadata": {
        "id": "mge9eDGA0A4M"
      },
      "execution_count": null,
      "outputs": []
    },
    {
      "cell_type": "markdown",
      "source": [
        "Here, we create a molecule object using the `MolFromSmiles()` function. RDKit reads the SMILES string and creates a 2D representation of the corresponding molecule. This is stored in the variable `m`.\n",
        "\n",
        "Once we have the `m` object, we can perform many different operations on it with RDKit, but here we focus on drawing the molecular structure. To do this we use the second import statement to give us access to RDKit's drawing functions.\n",
        "\n",
        "The function that we use in this example, `Draw.MolToImage()`, draws the molecular structure to the screen. However, you could also save your image to a file using the `Draw.MolToFile()` function for later insertion into e.g. Word documents."
      ],
      "metadata": {
        "id": "1x0gHFxK64ui"
      }
    },
    {
      "cell_type": "markdown",
      "source": [
        "By editing the SMILES string, we can alter the structure contained in the RDKit molecule object, and therefore the output image.\n",
        "\n",
        "Let's create toluene - you can do this by simply adding another carbon to the SMILES string.\n",
        "\n",
        "Note, however, that we are adding a capital C. In SMILES notation, capital \"C\" denotes an aliphatic sp$^3$ carbon and lowercase \"c\" gives an aromatic sp$^2$ carbon."
      ],
      "metadata": {
        "id": "31Z-vyOx3Sf5"
      }
    },
    {
      "cell_type": "code",
      "source": [
        "from rdkit import Chem\n",
        "from rdkit.Chem import Draw\n",
        "m = Chem.MolFromSmiles('c1ccccc1C')\n",
        "Draw.MolToImage(m)"
      ],
      "metadata": {
        "id": "S1Bo_RJb1VTP"
      },
      "execution_count": null,
      "outputs": []
    },
    {
      "cell_type": "markdown",
      "source": [
        "Similarly, we can change our benzene example to give us pyridine by replacing a ring carbon with nitrogen. We use a lowercase \"n\" because the pyridine nitrogen is also sp$^2$/aromatic."
      ],
      "metadata": {
        "id": "Kz6LvoP95fsF"
      }
    },
    {
      "cell_type": "code",
      "source": [
        "from rdkit import Chem\n",
        "from rdkit.Chem import Draw\n",
        "m = Chem.MolFromSmiles('n1ccccc1')\n",
        "Draw.MolToImage(m)"
      ],
      "metadata": {
        "id": "UKNsFba00tcK"
      },
      "execution_count": null,
      "outputs": []
    },
    {
      "cell_type": "markdown",
      "source": [
        "For simple molecules, editing the SMILES string by hand is fairly straightforward. This is not really the case for \"interesting\" molecules. In such cases, one alternative is to use an online source to obtain the SMILES for your molecule.\n",
        "\n",
        "The PubChem service (https://pubchem.ncbi.nlm.nih.gov/) is particularly useful for this. In the following example, PubChem was searched for \"asprin\". The entry for this compound contains the corresponding SMILES string, which was used here.\n",
        "\n",
        "NOTE: An alternative SMILES format is used here that explicitly shows the position of double bonds (denoted \"=\"), so no distinction is made between aromatic and aliphatic atoms. You can read more about SMILES grammar at http://opensmiles.org/opensmiles.html"
      ],
      "metadata": {
        "id": "sFyadGUL9czn"
      }
    },
    {
      "cell_type": "code",
      "source": [
        "from rdkit import Chem\n",
        "from rdkit.Chem import Draw\n",
        "m = Chem.MolFromSmiles('CC(=O)OC1=CC=CC=C1C(=O)O')\n",
        "Draw.MolToImage(m)"
      ],
      "metadata": {
        "id": "ZlMpP_h-yG1f"
      },
      "execution_count": null,
      "outputs": []
    },
    {
      "cell_type": "markdown",
      "source": [
        "# Molecular structure files\n",
        "\n",
        "An alternative input method to the SMILES strings, above, uses external files containing information on the elemental makup of the molecule in question and its geometry/bonding.\n",
        "\n",
        "RDKit can read several molecule file formats, but the next example uses a file in the \"MOL\" format."
      ],
      "metadata": {
        "id": "wO8MNehOGFQS"
      }
    },
    {
      "cell_type": "code",
      "execution_count": null,
      "metadata": {
        "id": "yFv3z0gfxehq",
        "collapsed": true
      },
      "outputs": [],
      "source": [
        "from rdkit import Chem\n",
        "from rdkit.Chem import Draw\n",
        "m = Chem.MolFromMolFile('Asprin.mol')\n",
        "Draw.MolToImage(m)"
      ]
    },
    {
      "cell_type": "markdown",
      "source": [
        "NOTE: The orientation of the the asprin molecule is different because the order of the atoms in the .mol file is different from that given in the SMILES string. This means the \"starting\" atom for the drawing changes."
      ],
      "metadata": {
        "id": "EydaQBa6TbGX"
      }
    },
    {
      "cell_type": "markdown",
      "source": [
        "# Practice\n",
        "Search PubChem for the data on paracetamol. Copy the SMILES string and edit/run the following Python code to draw the paracetamol molecule.\n",
        "\n",
        "Remember to put the SMILES string in quotes."
      ],
      "metadata": {
        "id": "_0ed7gxW_sTz"
      }
    },
    {
      "cell_type": "code",
      "source": [
        "from rdkit import Chem\n",
        "from rdkit.Chem import Draw\n",
        "m = Chem.MolFromSmiles()\n",
        "Draw.MolToImage(m)"
      ],
      "metadata": {
        "id": "DwMYZFi4ACs-"
      },
      "execution_count": null,
      "outputs": []
    },
    {
      "cell_type": "markdown",
      "source": [
        "# TODO:\n",
        "- Clarify different SMILES formats (or simply tidy them up to use a single format - probably better for introductory students)\n",
        "- Add examples using structure files as input instead of SMILES for more complex molecules to show limitations of 2D depiction (then add 3D images?)"
      ],
      "metadata": {
        "id": "U93Gwk3V_Q9I"
      }
    }
  ]
}