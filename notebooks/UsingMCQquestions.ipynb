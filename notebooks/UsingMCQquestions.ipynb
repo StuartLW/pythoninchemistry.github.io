{
 "cells": [
  {
   "cell_type": "markdown",
   "id": "f77d360f",
   "metadata": {},
   "source": [
    "# Using Multiple Choice Questions in Notebooks\n",
    "\n",
    "(a guide for instructors)\n",
    "\n",
    "In interactive notebooks it can be useful to ask students to respond to a multiple choice questions.  This notebook demonstrates how this can be done, either using local code or by embedding an external site.  "
   ]
  },
  {
   "cell_type": "markdown",
   "id": "2627c40a",
   "metadata": {},
   "source": [
    "### Local Code Solution\n",
    "The helper file mcq.py shows how this can be achieved locally. For example"
   ]
  },
  {
   "cell_type": "code",
   "execution_count": null,
   "id": "1083919f",
   "metadata": {},
   "outputs": [],
   "source": [
    "# import the questions from the helper file\n",
    "from mcq import mcq_1, mcq_2"
   ]
  },
  {
   "cell_type": "code",
   "execution_count": null,
   "id": "242b1018",
   "metadata": {},
   "outputs": [],
   "source": [
    "# run the cell to view the mcq\n",
    "mcq_1()"
   ]
  },
  {
   "cell_type": "markdown",
   "id": "bf13498c",
   "metadata": {},
   "source": [
    "Setting up the mcq is just by setting up a small function which calls the mcq class. You just need to define the question as a string, the options and whether the answer is correct using a list of dictionary objects.  You can also provide feedback if the answer is correct or incorrect (or both) using the feedbackCorrent and feedbackIncorrect keys. By default only ticked answers will be marked unless you pass a third False flag in the set up(to the CHECK_SUBMITTED_ONLY flag). Here is the function that creates the quiz above:"
   ]
  },
  {
   "cell_type": "markdown",
   "id": "262616b4",
   "metadata": {},
   "source": [
    ">```Python\n",
    ">def mcq_1():\n",
    ">    question = \"<p><strong>Select the correct answers about the Python Language (more than one answer may be correct)</strong><p>\"\n",
    ">\n",
    ">    options_dict = [\n",
    ">        {\n",
    ">            \"text\": \"Python is the fastest coding language\",\n",
    ">            \"correct\": False,\n",
    ">            \"feedbackIncorrect\": \"Python is not the fastest — precompiled languages like C or Rust are generally faster.\",\n",
    ">        },\n",
    ">        {\n",
    ">            \"text\": \"Python is a great language to start with\",\n",
    ">            \"correct\": True,\n",
    ">            \"feedbackCorrect\": \"Yes! Python's simple syntax makes it a great first language.\",\n",
    ">        },\n",
    ">        {\n",
    ">            \"text\": \"Python was developed in the 1980s\",\n",
    ">            \"correct\": True,\n",
    ">            \"feedbackCorrect\": \"Correct — Python was conceived in the late 1980s by Guido van Rossum.\",\n",
    ">        },\n",
    ">    ]\n",
    ">\n",
    ">    quiz = MCQ(question, options_dict)\n",
    ">    return quiz.quiz()"
   ]
  },
  {
   "cell_type": "markdown",
   "id": "93e67a9e",
   "metadata": {},
   "source": [
    "If you want to use code as part of the question format it carefully using a \"\"\" syntax and &lt;pre> and &lt;code> tags\n",
    ">```Python\n",
    ">   question = \"\"\"\n",
    "><p>Analyse the following code and select the two correct answers\n",
    "><pre>\n",
    "><code>\n",
    ">for i in range(10):\n",
    ">    if i % 2 == 1:\n",
    ">        print(f\"{i} is odd\")\n",
    ">    else:\n",
    ">        print(f\"{i} is even\")\n",
    "></code></pre></p>\n",
    ">\"\"\""
   ]
  },
  {
   "cell_type": "code",
   "execution_count": null,
   "id": "a0675f8e",
   "metadata": {},
   "outputs": [],
   "source": [
    "mcq_2()"
   ]
  },
  {
   "cell_type": "markdown",
   "id": "96c5f219",
   "metadata": {},
   "source": [
    "It may not be obvious to students that they have all the correct answers unless you tell them at the start how many are correct."
   ]
  },
  {
   "cell_type": "markdown",
   "id": "ffa1e196",
   "metadata": {},
   "source": [
    "### Alternative Embed Approach\n",
    "\n",
    "If you dont want to mess around with local helper functions then you can also take an embed approach.  As with the Parsons problems examples \n",
    "\n",
    "Go to the example problem on CodePen https://codepen.io/StuartLW/pen/WbbNvXe or https://codepen.io/StuartLW/pen/yyyLOpe (you may need to create a free account) and in the bottom right click Fork.  This should create a new copy of the problem for you to edit. \n",
    "- In the HTML box you can edit the question\n",
    "- In the JS box edit the const quizData to reflect the answer options you want.\n",
    "- In the JS box edit the const CHECK_SELECTED_ONLY to false if you want to change the feedback behaviour\n",
    "\n",
    "Thats it - your problem should now render OK in the results section\n",
    "- Save your codepen\n",
    "- from the bottom right click Embed - a new dialogue opens\n",
    "- in the top pane make sure only result is selected\n",
    "- click iframe in the lower right tab and copy the src from the displayed code to use in your notebook\n"
   ]
  },
  {
   "cell_type": "code",
   "execution_count": null,
   "id": "dfc508fb",
   "metadata": {},
   "outputs": [],
   "source": [
    "from IPython.display import IFrame\n",
    "\n",
    "IFrame(\n",
    "    src=\"https://codepen.io/StuartLW/embed/WbbNvXe?default-tab=result\",\n",
    "    width=1500,\n",
    "    height=400,\n",
    ")"
   ]
  },
  {
   "cell_type": "code",
   "execution_count": null,
   "id": "c72c10c6",
   "metadata": {},
   "outputs": [],
   "source": [
    "IFrame(\n",
    "    src=\"https://codepen.io/StuartLW/embed/yyyLOpe?default-tab=result\",\n",
    "    width=1500,\n",
    "    height=600,\n",
    ")"
   ]
  }
 ],
 "metadata": {
  "kernelspec": {
   "display_name": "teaching",
   "language": "python",
   "name": "python3"
  },
  "language_info": {
   "codemirror_mode": {
    "name": "ipython",
    "version": 3
   },
   "file_extension": ".py",
   "mimetype": "text/x-python",
   "name": "python",
   "nbconvert_exporter": "python",
   "pygments_lexer": "ipython3",
   "version": "3.12.2"
  }
 },
 "nbformat": 4,
 "nbformat_minor": 5
}
