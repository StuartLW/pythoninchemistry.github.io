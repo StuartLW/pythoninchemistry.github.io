{
  "nbformat": 4,
  "nbformat_minor": 0,
  "metadata": {
    "colab": {
      "provenance": []
    },
    "kernelspec": {
      "name": "python3",
      "display_name": "Python 3"
    },
    "language_info": {
      "name": "python"
    }
  },
  "cells": [
    {
      "cell_type": "markdown",
      "source": [
        "# Variable Data Types\n",
        "\n"
      ],
      "metadata": {
        "id": "VqjrEzS2z1Ol"
      }
    },
    {
      "cell_type": "markdown",
      "source": [
        "###Learning Outcomes\n",
        "\n",
        "*   Understand how to print basic outputs in python\n",
        "*   Understand how to identify and verify the type of variable\n",
        "*   Create and print lists in python\n",
        "\n",
        "\n",
        "\n",
        "\n"
      ],
      "metadata": {
        "id": "_iRikrUPUjs3"
      }
    },
    {
      "cell_type": "markdown",
      "source": [
        "###Prerequisites\n",
        "\n",
        "- Be able to access Google Colab, Jupyter Notebooks or another piece of software that will allow you to interact and practice the code"
      ],
      "metadata": {
        "id": "Kup00O1iVHOG"
      }
    },
    {
      "cell_type": "markdown",
      "source": [
        "A variable is a place where some information can be held in the code, and can be used in many different ways within a programme."
      ],
      "metadata": {
        "id": "IxCxV-mv0Svg"
      }
    },
    {
      "cell_type": "code",
      "source": [],
      "metadata": {
        "id": "65Jiw2TX0QQQ"
      },
      "execution_count": null,
      "outputs": []
    },
    {
      "cell_type": "markdown",
      "source": [
        "##Print Function\n",
        "\n",
        "Python can specified message using the print function. This is one of the main ways you will output information."
      ],
      "metadata": {
        "id": "pNvKKeprCw5V"
      }
    },
    {
      "cell_type": "code",
      "source": [
        "message = \"we love chemistry\"\n",
        "print(message)"
      ],
      "metadata": {
        "id": "VQe62zJIDd2s"
      },
      "execution_count": null,
      "outputs": []
    },
    {
      "cell_type": "markdown",
      "source": [
        "You can use the print function to print answers to calculations. Remember to use brackets for more complex calculations."
      ],
      "metadata": {
        "id": "6K3DweS-SJkH"
      }
    },
    {
      "cell_type": "code",
      "source": [
        "print(54*145)"
      ],
      "metadata": {
        "id": "mIQZr9GdSSzy"
      },
      "execution_count": null,
      "outputs": []
    },
    {
      "cell_type": "markdown",
      "source": [
        "##Type Function\n",
        "\n",
        "This is a built-in function that is used to return the type of data stored in the objects or variables in the program. For example, if a variable contains a value of 45.5 then the type of that variable is float.\n",
        "\n",
        "This is useful as when you have multiple data a variable types you check that they are functioning in the correct way."
      ],
      "metadata": {
        "id": "E7oo-rhqLU4O"
      }
    },
    {
      "cell_type": "code",
      "source": [
        "number = 45.5\n",
        "print(type(number))"
      ],
      "metadata": {
        "id": "e1jc0uR_LXLE"
      },
      "execution_count": null,
      "outputs": []
    },
    {
      "cell_type": "markdown",
      "source": [
        "##Naming of variables\n",
        "\n",
        "There are few strict conventions with the naming of variables, and Python can be incredibly tolerant in this regard. However, for the ease of legibility of code, and minimise mistakes caused by referring to the wrong variable, it is sensible to try and use a clear and consistent approach to variable naming.\n",
        "\n",
        "###Variable name requirements\n",
        "\n",
        "\n",
        "*   Variables can only start with a letter or underscore (_) character and may not start with a number.\n",
        "*   Can only include upper and lowercase letters, numbers and the underscore character (A-z, 0-9, and _ )\n",
        "*   Names must not be a [Python keyword](https://docs.python.org/3/reference/lexical_analysis.html#keywords)\n",
        "\n",
        "###Choosing variable names\n",
        "Short, descriptive names are generally a good choice, as variables will often need to be entered in multiple places in code. Names can consist of multiple words, but cannot use spaces. Commonly 'camelCase' is used with variable naming, where a multiple word variable name is closed together (ie the spaces are removed), and the initial letter of each word being capitalised (excluding the first word).\n",
        "\n",
        "Examples might include:\n",
        "\n",
        "\n",
        "*   elementMass\n",
        "*   elementAtomicNumber\n",
        "\n",
        "\n",
        "\n",
        "\n",
        "\n",
        "\n",
        "\n",
        "\n"
      ],
      "metadata": {
        "id": "0LF3cDZLBe82"
      }
    },
    {
      "cell_type": "markdown",
      "source": [
        "## Types of variables\n",
        "Some of the common variable types are outlined below. For each type of variable, there is a code snippet which shows how the variable is set, the variable is printed, and the type of variable is printed."
      ],
      "metadata": {
        "id": "VPhG17aLAcBb"
      }
    },
    {
      "cell_type": "markdown",
      "source": [
        "### Strings\n",
        "\n",
        "These store a sequence of characters. You signify what characters are stored by writing quotation marks either side of the characters. These can be double or single quotation marks. It will still work either way. Just be consistent."
      ],
      "metadata": {
        "id": "PwADJGso9G7-"
      }
    },
    {
      "cell_type": "code",
      "execution_count": null,
      "metadata": {
        "id": "ObD5OOJswqse"
      },
      "outputs": [],
      "source": [
        "subject = \"Chemistry\"\n",
        "print(subject)\n",
        "print(type(subject))"
      ]
    },
    {
      "cell_type": "markdown",
      "source": [
        "### Numbers"
      ],
      "metadata": {
        "id": "j2LOZu_qAnti"
      }
    },
    {
      "cell_type": "markdown",
      "source": [
        "####Integer\n",
        "\n",
        "This in any whole number e.g. 5. If your variable type is an integer you will see the class output will be displayed as 'int'."
      ],
      "metadata": {
        "id": "5Zzn3B9OAq1d"
      }
    },
    {
      "cell_type": "code",
      "source": [
        "number = 5\n",
        "print(number)\n",
        "print(type(number))"
      ],
      "metadata": {
        "id": "FV_SqZ4N3edG"
      },
      "execution_count": null,
      "outputs": []
    },
    {
      "cell_type": "markdown",
      "source": [
        "####Float\n",
        "\n",
        "This is any number where you have a decimal place. If your variable type is a float, you will see the class output will be displayed at 'float'."
      ],
      "metadata": {
        "id": "tmlYe2PTAzCN"
      }
    },
    {
      "cell_type": "code",
      "source": [
        "number = 5.3\n",
        "print(number)\n",
        "print(type(number))"
      ],
      "metadata": {
        "id": "axf-MWdz4V03"
      },
      "execution_count": null,
      "outputs": []
    },
    {
      "cell_type": "markdown",
      "source": [
        "####Standard form\n",
        "\n",
        "When writing standard form, as is the case for Avogadro's constant you would use e to show that the number is multipled by 10 to the power of 23."
      ],
      "metadata": {
        "id": "xuiU47q1A3qV"
      }
    },
    {
      "cell_type": "code",
      "source": [
        "avogadro = 6.023e23\n",
        "print(avogadro)\n",
        "print(type(avogadro))"
      ],
      "metadata": {
        "id": "SF6MngZc5LTw"
      },
      "execution_count": null,
      "outputs": []
    },
    {
      "cell_type": "markdown",
      "source": [
        "####Complex Numbers\n",
        "\n",
        "You may not use complex numbers when you first start out on your chemistry course, but you will come across them later in maths and potentially when you study crystallography, quantum mechanics and other areas of science.\n",
        "\n",
        "When using compelx numbers in python, you cannot use i for imaginary numbers, you must use J instead. In teh example below we have the complex number 3+3i which is written as 3+3j in the code."
      ],
      "metadata": {
        "id": "aWRMOW5M7b2D"
      }
    },
    {
      "cell_type": "code",
      "source": [
        "complexNumber=(3+3j)\n",
        "print(complexNumber)\n",
        "print(type(complexNumber))"
      ],
      "metadata": {
        "id": "v6df_hB45r-3"
      },
      "execution_count": null,
      "outputs": []
    },
    {
      "cell_type": "markdown",
      "source": [
        "### Boolean"
      ],
      "metadata": {
        "id": "K6aMfYCUAjMn"
      }
    },
    {
      "cell_type": "code",
      "source": [
        "Answer = True\n",
        "print(Answer)\n",
        "print(type(Answer))"
      ],
      "metadata": {
        "id": "gkuDEMKq4csJ"
      },
      "execution_count": null,
      "outputs": []
    },
    {
      "cell_type": "markdown",
      "source": [
        "####Lists"
      ],
      "metadata": {
        "id": "HFWW4cO9BlLI"
      }
    },
    {
      "cell_type": "code",
      "source": [
        "elements = ['H', 'He']\n",
        "print(elements)\n",
        "print(type(elements))"
      ],
      "metadata": {
        "id": "3C66kNgC4sQf"
      },
      "execution_count": null,
      "outputs": []
    },
    {
      "cell_type": "markdown",
      "source": [
        "####Dictionaries"
      ],
      "metadata": {
        "id": "98-HGTmIBoSl"
      }
    },
    {
      "cell_type": "code",
      "source": [
        "ram = {\n",
        "  \"Hydrogen\": 1.008,\n",
        "  \"Helium\": 4.002602,\n",
        "  \"Lithium\": 6.941\n",
        "}"
      ],
      "metadata": {
        "id": "lAOQrm4LE24D"
      },
      "execution_count": null,
      "outputs": []
    },
    {
      "cell_type": "code",
      "source": [
        "data = {\n",
        "'H' : [(1.007825, 99.9885),(2.014102, 0.0115)],\n",
        "'C' : [ (12.0, 98.93),(13.003355, 1.07)],\n",
        "'N' : [(14.003074, 99.632),(15.000109, 0.368)],\n",
        "'O' : [(15.994915 , 99.757),(16.999132, 0.038),(17.999160,0.205)]\n",
        "}"
      ],
      "metadata": {
        "id": "EbJjHF7fD0Ea"
      },
      "execution_count": null,
      "outputs": []
    },
    {
      "cell_type": "markdown",
      "source": [
        "####TO-DO List\n",
        "\n",
        "Add in f-strings - should this be as a separate page\n",
        "\n",
        "Add in some more worked examples\n"
      ],
      "metadata": {
        "id": "5Rep96srUZeM"
      }
    }
  ]
}