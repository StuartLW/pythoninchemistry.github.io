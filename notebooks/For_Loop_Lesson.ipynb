{
  "cells": [
    {
      "cell_type": "markdown",
      "metadata": {
        "id": "UuDCTZ7LX9Jb"
      },
      "source": [
        "# Prerequisites:\n",
        "- Variables\n",
        "- Comparison\n",
        "- `if` statements"
      ]
    },
    {
      "cell_type": "markdown",
      "metadata": {
        "id": "2VRPDborAVn1"
      },
      "source": [
        "<h2> The `for` loop</h2>\n",
        "<p><b>The 'for' loop.</b></p>\n",
        "    <div style= \"float:left; clear:left;  width:60%\">\n",
        "\n",
        "\n",
        "<p>One area where you will see a real benefit of using programming in your work is when you need to repeat a task over and over again. For example maybe you need to process the same type of data file many times with different values.  This can take a lot of time one by one but Python can really come to your rescue and save you hours.  Plus all your lab colleagues will be beating a path to your door to ask for your help.  You will soon become the lab data processing guru!</p>\n",
        "</div>\n",
        "    <div style= \"float:left; width:40%\">\n",
        "         <img src = 'StockCake-Overwhelmed with paperwork_1744290627.jpg'>\n",
        "    </div>\n",
        "<div style=\"clear:left\">\n",
        "\n",
        "<p>One of the easiest way to perform this task is to use a 'for' loop</p>\n",
        "\n",
        "<p>Here is an example:</p>\n",
        "\n",
        "</div>"
      ]
    },
    {
      "cell_type": "code",
      "execution_count": null,
      "metadata": {
        "id": "VSiGQd0PKsxD"
      },
      "outputs": [],
      "source": [
        "molecules = [\"H2\", \"H2O\", \"CH4\"]\n",
        "\n",
        "for mol in molecules:\n",
        "  print(mol)"
      ]
    },
    {
      "cell_type": "markdown",
      "metadata": {
        "id": "hwu0INZoK5FO"
      },
      "source": [
        "If you run the cell above, you should see three strings printed despite having only used a single `print()` statement. Let's look at this closer.\n",
        "\n",
        "We begin by defining a list of strings:\n",
        "```python\n",
        "molecules = [\"H2\", \"H2O\", \"CH4\"]\n",
        "```\n",
        "\n",
        "We then start a loop with the line:\n",
        "```python\n",
        "for mol in molecules:\n",
        "```\n",
        "- `for` indicates that we will begin a loop.\n",
        "- `mol` is a new variable that we are currently defining.\n",
        "- `in molecules` indicates that we want to do repeat the operations in the loop once per element in the list `molecules`.\n",
        "- `:` signals the beginning of the loop.\n",
        "\n",
        "After this line of code, `print(mol)` prints the contents of the `mol` variable to the screen.\n",
        "\n",
        "Notice how `print(mol)` has some leading spaces (typed with the `<Tab>` key). We say that this piece of code is _indented_, meaning that it has one `<Tab>` space separating it from the left side of the screen.\n",
        "\n",
        "When we write indented code below a line starting with `for`, all of that code gets repeated within the `for` loop. Conveniently, while we are within this loop, the variable `mol` will adopt the values of each element of `molecules` in sequence, changing at every loop.\n",
        "\n",
        "This is why `print(mol)` is effectively becoming `print(\"H2\")`, `print(\"H2O\")`, and `print(\"CH4\")` one after another.\n",
        "\n"
      ]
    },
    {
      "cell_type": "markdown",
      "metadata": {},
      "source": [
        "<div class=\"alert alert-success\"><b>Task 1: Understanding a Loop</b> \n",
        "\n",
        " Take a look at this code block and answer the questions\n",
        "\n",
        ">``` Python\n",
        ">\n",
        ">gas_list = ['Nitrogen', 'Oxygen', 'Fluorine']\n",
        ">for gas in gas_list:\n",
        ">    print(gas)"
      ]
    },
    {
      "cell_type": "markdown",
      "metadata": {},
      "source": [
        "MULTIPLE CHOICE QUESTION\n",
        "\n",
        "- The loop will print the name of each gas on a separate line (correct)\n",
        "- the loop will print one line with all the gas names\n",
        "- The variable gas takes on each value of gas list in turn (correct)\n",
        "- the variable gas_list changes each time around the loop"
      ]
    },
    {
      "cell_type": "markdown",
      "metadata": {},
      "source": [
        "<div class=\"alert alert-success\"><b>Task 2: Understanding a Loop</b> \n",
        "\n",
        "In the lab you are making methyl benzoate according using the scheme below.  Five scientists repeat the reaction starting with  3 g of benzoic acid and get  of 2.5 g, 2.7 g, 3.1 g, 1.6 g and 4 g of product\n",
        "\n",
        "<img src='methyl_benzoate.png'>\n",
        "\n",
        "Lets use your understanding of for loops to quickly work out the yields for each person"
      ]
    },
    {
      "cell_type": "code",
      "execution_count": null,
      "metadata": {},
      "outputs": [],
      "source": [
        "product_mass_list = [2.5,2.7,3.1,1.6,4]\n",
        "starting_mass = 3  # grams\n",
        "theoretical_yield = (_______/_______)*136\n",
        "for product_mass in product_mass_list:\n",
        "  percent_yield = (_________ / ___________) * 100\n",
        "  # the print statement uses the f-string syntax to format the output of the calculation - see lesson XX\n",
        "  print(f\"Percent yield: {percent_yield:.0f}%\")\n"
      ]
    },
    {
      "cell_type": "markdown",
      "metadata": {},
      "source": [
        "<details><summary {style='color:beige;font-weight:bold'}> Click here to see a possible solution to Task 2 </summary>\n",
        "\n",
        ">```Python\n",
        ">product_mass_list = [2.5,2.7,3.1,1.6,4]\n",
        ">starting_mass = 3  # grams\n",
        ">theoretical_yield = (starting_mass/122)*136\n",
        ">for product_mass in product_mass_list:\n",
        ">  percent_yield = (product_mass / theoretical_yield) * 100\n",
        "> # the print statement uses the f-string syntax to format the output of the calculation - see >lesson XX\n",
        ">  print(f\"Percent yield: {percent_yield:.0f}%\")\n",
        "```"
      ]
    },
    {
      "cell_type": "markdown",
      "metadata": {},
      "source": [
        "<div class=\"alert alert-success\"><b>Task 3: Understanding a Loop</b> \n",
        "\n",
        "You have a series of temperature measurements from your reaction in degrees C and you want to print them out in Kelvin. One of your colleagues writes some code but it doesn't seem to be working.  Can you identify the problem and fix the code?"
      ]
    },
    {
      "cell_type": "code",
      "execution_count": null,
      "metadata": {},
      "outputs": [],
      "source": [
        "# Your colleagues code\n",
        "\n",
        "# The code below is not working. Can you fix it?\n",
        "temperature_measurements = [27.3, 28.1, 26.9, 27.5, 28.0]\n",
        "for temperature_C in temperature_measurements:\n",
        "    temperature_K = temperature_C + 273.15\n",
        "print(f\"Temperature: {temperature_K}°C\")"
      ]
    },
    {
      "cell_type": "markdown",
      "metadata": {},
      "source": [
        "<details><summary {style='color:beige;font-weight:bold'}> Click here to see a possible solution to Task 3 </summary>\n",
        "\n",
        "Remember that the items that you want to do each time you go around the for loop need to be indented. In the example the print statement is not indented and so is not executed each time, but only one the loop is finished. You can fix the code just by indenting the print statement with the tab key.\n",
        ">```Python\n",
        ">temperature_measurements = [27.3, 28.1, 26.9, 27.5, 28.0]\n",
        ">for temperature_C in temperature_measurements:\n",
        ">    temperature_K = temperature_C + 273.15\n",
        ">   print(f\"Temperature: {temperature_K}°C\")\n",
        ">```"
      ]
    },
    {
      "cell_type": "markdown",
      "metadata": {},
      "source": [
        "You seem to be really getting the hang ofd these for loops. Well done!\n",
        "\n",
        "When we are talking about for loops more generally we use the following terms:\n",
        "- **Discrete variable**: a variable changes its value at every iteration of the loop (e.g. `temperature_C` in task 3).\n",
        "- **Iterator**: a variable containing multiple values, which can be used in a `for` loop (e.g. `temperature_measurements` in the last example). Lists are the most common kind of operator in Python.\n",
        "\n",
        "The general syntax of a `for` loop is:\n",
        "```python\n",
        "for discrete_variable in iterator:\n",
        "  . # some\n",
        "  . # indented\n",
        "  . # code\n",
        "```\n",
        "\n",
        "You can write Python code of any length inside a `for` loop as long as you respect its indentation. "
      ]
    },
    {
      "cell_type": "markdown",
      "metadata": {},
      "source": [
        "<div class=\"alert alert-success\"><b>Task 4: Understanding a Loop</b> \n",
        "\n",
        "Run the code below and answer the following questions to check your understanding"
      ]
    },
    {
      "cell_type": "code",
      "execution_count": null,
      "metadata": {},
      "outputs": [],
      "source": [
        "natural_amino_acids = [\"Alanine\", \"Arginine\", \"Asparagine\", \"Aspartic acid\", \"Cysteine\", \"Glutamic acid\", \"Glutamine\", \"Glycine\", \"Histidine\", \"Isoleucine\", \"Leucine\", \"Lysine\", \"Methionine\", \"Phenylalanine\", \"Proline\", \"Serine\", \"Threonine\", \"Tryptophan\", \"Tyrosine\", \"Valine\"]\n",
        "for amino_acid in natural_amino_acids:\n",
        "    print(f\"Amino acid: {amino_acid}\")"
      ]
    },
    {
      "cell_type": "markdown",
      "metadata": {},
      "source": [
        "MULTIPLE CHOICE QUESTION\n",
        "\n",
        "- The discrete variable is amino acid (correct)\n",
        "- The discrete variable is amino acids\n",
        "- The iterator is amino_acid\n",
        "- The iterator is amino_acids (correct)\n"
      ]
    },
    {
      "cell_type": "markdown",
      "metadata": {},
      "source": [
        "<div class=\"alert alert-success\"><b>Task 5: Using loops</b> \n",
        "\n",
        "When chemists want to store molecular structures in a computer they can store in an encoded way called SMILES strings.  You don't need to understand what these mean but just to know that libraries that can handle chemical structure can read them. The code below will import the RDKit package and print the structure of benzoic acid.  The code works by passing the SMILES string for benzoic acid to the function display_molecule that then draws it out.  Check out the functions lesson if you want to understand more about functions, but for this lesson all you just need to follow the syntax below"
      ]
    },
    {
      "cell_type": "code",
      "execution_count": null,
      "metadata": {},
      "outputs": [],
      "source": [
        "from rdkit import Chem\n",
        "\n",
        "def display_molecule (smiles_string):\n",
        "    mol = Chem.MolFromSmiles(smiles_string)\n",
        "    img=Chem.Draw.MolToImage(mol)\n",
        "    display(img)\n",
        "\n",
        "# display the structure of benzoic acid\n",
        "benzoic_acid_miles = \"C1=CC=C(C=C1)C(=O)O\"\n",
        "display_molecule(benzoic_acid_miles)"
      ]
    },
    {
      "cell_type": "markdown",
      "metadata": {},
      "source": [
        "<div class=\"alert alert-success\"><b>Task 5 continued</b> \n",
        "Now you know how to print one molecule lets use your understanding of for loops to print lots of molecules.  Here are a list of the smiles strings of some interesting molecules, Dolutegravir a very important anti-hiv drug, Atovaquone which treats malaria and paclitaxol that is an important \n",
        "\n",
        "\n",
        "<div>\n",
        "<ul>\n",
        "<li>C[C@@H]1CCO[C@@H]2N1C(=O)C3=C(C(=O)C(=CN3C2)C(=O)NCC4=C(C=C(C=C4)F)F)O\n",
        "<li>C1CC(CCC1C2=CC=C(C=C2)Cl)C3=C(C4=CC=CC=C4C(=O)C3=O)O\n",
        "<li>CC1=C2[C@H](C(=O)[C@@]3([C@H](C[C@@H]4[C@]([C@H]3[C@@H]([C@@](C2(C)C)(C[C@@H]1OC(=O)[C@@H]([C@H](C5=CC=CC=C5)NC(=O)C6=CC=CC=C6)O)O)OC(=O)C7=CC=CC=C7)(CO4)OC(=O)C)O)C)OC(=O)C\n",
        "</ul>\n",
        "</div>\n",
        "Using the concepts above write a for loop that will draw the structrue of all 3 molecules. You need to:\n",
        "- define a list of the smiles strings\n",
        "- loop through the list and display each molecule using the display_molecule function"
      ]
    },
    {
      "cell_type": "code",
      "execution_count": null,
      "metadata": {},
      "outputs": [],
      "source": [
        "molecule_smiles = ['C[C@@H]1CCO[C@@H]2N1C(=O)C3=C(C(=O)C(=CN3C2)C(=O)NCC4=C(C=C(C=C4)F)F)O',\n",
        "'C1CC(CCC1C2=CC=C(C=C2)Cl)C3=C(C4=CC=CC=C4C(=O)C3=O)O',\n",
        "'CC1=C2[C@H](C(=O)[C@@]3([C@H](C[C@@H]4[C@]([C@H]3[C@@H]([C@@](C2(C)C)(C[C@@H]1OC(=O)[C@@H]([C@H](C5=CC=CC=C5)NC(=O)C6=CC=CC=C6)O)O)OC(=O)C7=CC=CC=C7)(CO4)OC(=O)C)O)C)OC(=O)C']\n",
        "\n",
        "for smiles in molecule_smiles:\n",
        "    display_molecule(smiles)"
      ]
    },
    {
      "cell_type": "markdown",
      "metadata": {},
      "source": [
        "<details><summary {style='color:beige;font-weight:bold'}> Click here to see a possible solution to Task 5 </summary>\n",
        "\n",
        ">```Python\n",
        ">molecule_smiles = ['C[C@@H]1CCO[C@@H]2N1C(=O)C3=C(C(=O)C(=CN3C2)C(=O)NCC4=C(C=C(C=C4)F)F)O',\n",
        ">'C1CC(CCC1C2=CC=C(C=C2)Cl)C3=C(C4=CC=CC=C4C(=O)C3=O)O',\n",
        ">'CC1=C2[C@H](C(=O)[C@@]3([C@H](C[C@@H]4[C@]([C@H]3[C@@H]([C@@](C2(C)C)(C[C@@H]1OC(=O)[C@@H]([C@H]>>>(C5=CC=CC=C5)NC(=O)C6=CC=CC=C6)O)O)OC(=O)C7=CC=CC=C7)(CO4)OC(=O)C)O)C)OC(=O)C']\n",
        ">\n",
        ">for smiles in molecule_smiles:\n",
        ">    display_molecule(smiles)\n",
        "```"
      ]
    },
    {
      "cell_type": "markdown",
      "metadata": {
        "id": "Ejspk6fFPXFK"
      },
      "source": [
        "## TODO\n",
        "A second part of the lesson covering the following.\n",
        "- Iterating with `range()`\n",
        "- Using a loop to generate a list (and maybe list comprehension)\n",
        "- Nesting loops\n",
        "\n",
        "The format should be the same as before: first a lesson, then a series of exercises.\n",
        "\n",
        "Any lesson should start with requirements and end with TODO if it isn't finished. Try to always be on the lookout for ties to Chemistry in your lesson and exercises.\n",
        "\n",
        "Explain potential error messages and consider debugging exercises."
      ]
    },
    {
      "cell_type": "code",
      "execution_count": null,
      "metadata": {
        "id": "tpuihpop9duI"
      },
      "outputs": [],
      "source": []
    }
  ],
  "metadata": {
    "colab": {
      "provenance": []
    },
    "kernelspec": {
      "display_name": ".venv",
      "language": "python",
      "name": "python3"
    },
    "language_info": {
      "codemirror_mode": {
        "name": "ipython",
        "version": 3
      },
      "file_extension": ".py",
      "mimetype": "text/x-python",
      "name": "python",
      "nbconvert_exporter": "python",
      "pygments_lexer": "ipython3",
      "version": "3.12.2"
    }
  },
  "nbformat": 4,
  "nbformat_minor": 0
}
