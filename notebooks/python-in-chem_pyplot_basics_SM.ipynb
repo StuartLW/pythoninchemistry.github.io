{
 "cells": [
  {
   "cell_type": "markdown",
   "id": "8ea296df-22a6-4136-a2fc-901fb1c81f68",
   "metadata": {
    "slideshow": {
     "slide_type": ""
    },
    "tags": []
   },
   "source": [
    "# Matplotlib pyplot basics\n",
    "\n",
    "<br>\n",
    "\n",
    "## Pre-requesites\n",
    "\n",
    "- Variables\n",
    "- Lists\n",
    "- ...\n",
    "- ...\n",
    "- ...\n",
    "- ...\n",
    "\n",
    "<br>\n",
    "\n",
    "## Learning Outcomes\n",
    "\n",
    "- Plot scatter and line plots of lists of data\n",
    "- Include axis labels\n",
    "- Modify some of the appearances of the plots \n",
    "\n",
    "One of the important applications of Python is to create high quality visualisations such as graphs. There are multiple libraries that can be used for producing plots, but one of the most widely used in chemistry is `matplotlib`.\n",
    "\n",
    "\n",
    "The library `matplotlib` has multiple modules. The module of interest here is `pyplot` and its primary function is generating data plots. This module has a widely used alias, `plt`, and can be imported using the following line of code.\n",
    "\n",
    "`import matplotlib.pyplot as plt`\n",
    "\n",
    "### Line plots\n",
    "\n",
    "One of the most important commands within the `pyplot` module is `plt.plot(x,y)`. This command instructs Python to produce a line plot of data contained in the list with variable name `x` on the horizontal axis and the data contained in the list with variable name `y` on the vertical axis."
   ]
  },
  {
   "cell_type": "markdown",
   "id": "b22a7fac-c022-4a7f-93d1-9995bb2b488e",
   "metadata": {
    "slideshow": {
     "slide_type": ""
    },
    "tags": [
     "instructions"
    ]
   },
   "source": [
    "### Activity 1 Plotting a line graph\n",
    "\n",
    "\n",
    "The code below implements `pyplot` to plot a line graph of the following atomic radii data.\n",
    "\n",
    "**Table 1** Atomic radii of second row p-block elements\n",
    "\n",
    "|Element |\tGroup\t| Atomic radii / pm |\n",
    "|---|---|---|\n",
    "|$\\text{B}$|\t13\t|$88$|\n",
    "|$\\text{C}$|\t14\t|$77$|\n",
    "|$\\text{N}$|\t15\t|$74$|\n",
    "|$\\text{O}$|\t16\t|$73$|\n",
    "|$\\text{F}$|\t17\t|$71$|\n",
    "|$\\text{Ne}$|\t18\t|$71$|\n",
    "\n",
    "(a)\tEnter the data contained in the list for the `radii` variable.\n",
    "\n",
    "(b)\tChange the strings contained in the `plt.xlabel(\"horizontal axis title\")` and `plt.ylabel(\"vertical axis title\")` to reflect the data that is being plotted\n",
    "\n",
    "Possible (c) ..... discuss the trend?????\n"
   ]
  },
  {
   "cell_type": "code",
   "execution_count": null,
   "id": "33eee2a9-87e2-4392-b5ac-17b797f550d9",
   "metadata": {
    "slideshow": {
     "slide_type": ""
    },
    "tags": [
     "student"
    ]
   },
   "outputs": [],
   "source": [
    "\n",
    "import matplotlib.pyplot as plt\n",
    "\n",
    "group = [13,14,15,16,17,18]\n",
    "radii = []\n",
    "\n",
    "plt.plot(group,radii)\n",
    "plt.xlabel(\"horizontal axis title\")\n",
    "plt.ylabel(\"vertical axis title\")\n",
    "plt.show()"
   ]
  },
  {
   "cell_type": "markdown",
   "id": "ae5c0efd-81de-423a-85ba-cb95ada80f12",
   "metadata": {
    "slideshow": {
     "slide_type": ""
    },
    "tags": [
     "solution"
    ]
   },
   "source": []
  },
  {
   "cell_type": "code",
   "execution_count": null,
   "id": "cfd6e7b2",
   "metadata": {},
   "outputs": [],
   "source": [
    "#Possible answer to Activity 1\n",
    "\n",
    "import matplotlib.pyplot as plt\n",
    "\n",
    "group = [13,14,15,16,17,18]\n",
    "radii = [88,77,74,73,71,71]\n",
    "\n",
    "plt.plot(group,radii)\n",
    "plt.xlabel(\"Group\")\n",
    "plt.ylabel(\"Atomic radii / pm\")\n",
    "plt.show()"
   ]
  },
  {
   "cell_type": "markdown",
   "id": "217704b2-aeb8-4db0-9a1d-f3e81947b2de",
   "metadata": {
    "slideshow": {
     "slide_type": ""
    },
    "tags": []
   },
   "source": [
    "The commands `plt.xlabel(\" \")` and `plt.ylabel(\" \")` are used to include labels for the horizontal and vertical axes, respectively.\n",
    "\n",
    "The axis labels are strings inside the brackets, between speech marks in the same way strings are used in the `print()` function.\n",
    "\n",
    "The command `plt.show()` instructs pyplot to display the graph. \n",
    "(SM: this seems overly simplistic but i'm not completely sure the difference between interactive and non-interactive mode. \n",
    "\n",
    "<br>\n",
    "\n",
    "### Scatter plots\n",
    "\n",
    "Another option instead if a line plot is to use a scatter plot. For this option in `pyplot` use the command:\n",
    "`plt.scatter(x,y)`\n",
    "where `x` is the variable name of the list to be plotted on the x-axis, and `y` the variable name of the list to be plotted on the y-axis.\n",
    "\n"
   ]
  },
  {
   "cell_type": "markdown",
   "id": "a641c831-ce97-4bd8-9c8b-1169eb369b71",
   "metadata": {
    "slideshow": {
     "slide_type": ""
    },
    "tags": [
     "instructions"
    ]
   },
   "source": [
    "### Activity 2 Plotting a scatter graph\n",
    "\n",
    "\n",
    "Table 2 contains the atomic radii of the third row p-block elements. hydrides. In the cell below complete the code to generate a sactter plot of this data, with group on the horizontal axis and atomic radii on the vertical axis.\n",
    "\n",
    "(*Hint:* it is not necessary to write the code from scratch. It is perfectly acceptable to copy the code from activity 1 and modify it to include the desired data.)\n",
    "\n",
    "<br>\n",
    "\n",
    "**Table 2** Atomic radii of third row p-block elements\n",
    "\n",
    "|Element |\tGroup\t| Atomic radii / pm |\n",
    "|---|---|---|\n",
    "|$\\text{Al}$|\t13\t|$125$|\n",
    "|$\\text{Si}$|\t14\t|$118$|\n",
    "|$\\text{P}$|\t15\t|$110$|\n",
    "|$\\text{S}$|\t16\t|$104$|\n",
    "|$\\text{Cl}$|\t17\t|$99$|\n",
    "|$\\text{Ar}$|\t18\t|$98$|\n"
   ]
  },
  {
   "cell_type": "code",
   "execution_count": null,
   "id": "89b96bae-bc5a-43f3-a966-9385d2ee8fbc",
   "metadata": {
    "slideshow": {
     "slide_type": ""
    },
    "tags": [
     "student"
    ]
   },
   "outputs": [],
   "source": [
    "\n",
    "import matplotlib.pyplot as plt\n",
    "\n",
    "group = \n",
    "radii = \n",
    "\n"
   ]
  },
  {
   "cell_type": "code",
   "execution_count": null,
   "id": "abe65330",
   "metadata": {
    "slideshow": {
     "slide_type": ""
    },
    "tags": [
     "solution"
    ]
   },
   "outputs": [],
   "source": [
    "#Possible answer to Activity 2\n",
    "\n",
    "import matplotlib.pyplot as plt\n",
    "\n",
    "group = [13,14,15,16,17,18]\n",
    "radii = [125,118,110,104,99,98]\n",
    "\n",
    "plt.scatter(group,radii)\n",
    "plt.xlabel(\"Group\")\n",
    "plt.ylabel(\"Atomic radii / pm\")\n",
    "plt.show()\n"
   ]
  },
  {
   "cell_type": "markdown",
   "id": "a55c01ba-3804-4026-b278-faf4fdad8b78",
   "metadata": {},
   "source": [
    "### Plotting multiple datasets\n",
    "\n",
    "To plot multiple sets of data on the same graph you include more than one of the\n",
    "`plt.plot()` and/or the `plt.scatter()` commands.\n",
    "\n",
    "As multiple sets of data are to be plotted a legend should be included to indicate what each series represents. In the same `plt.plot()`/`plt.scatter()` code, after specifying the data to be plotted on the horizontal and vertical axes within the brackets,  a comma should be added and then the option `label=(\"\")` used. A string can then be included between the speech marks to label the series. For example, to plot a scatter graph of the lists `x` and `y` with the series name `Series A` you would use the following command:\n",
    "`plt.scatter(x,y, label=\"Series A\")`\n",
    "\n",
    "By default, the legend option is not turned on in `matplotlib`. To show the legends you need to include the line `plt.legend()`.\n"
   ]
  },
  {
   "cell_type": "markdown",
   "id": "221e04f1",
   "metadata": {},
   "source": [
    "### Activity 3 Plotting multiple datasets and including legends\n",
    "\n",
    "Complete the code in the cell below to generate a plot that contains the atomic radii of both the second and third row elements of the p-block. Remember to include a legend."
   ]
  },
  {
   "cell_type": "code",
   "execution_count": null,
   "id": "67345c3a",
   "metadata": {},
   "outputs": [],
   "source": [
    "import matplotlib.pyplot as plt\n",
    "\n",
    "group = []\n",
    "radii_2nd_period = []\n",
    "\n"
   ]
  },
  {
   "cell_type": "code",
   "execution_count": null,
   "id": "4b45182f",
   "metadata": {},
   "outputs": [],
   "source": [
    "#Possible answer to Activity 3\n",
    "\n",
    "import matplotlib.pyplot as plt\n",
    "\n",
    "group = [13,14,15,16,17,18]\n",
    "radii_2nd_period = [88,77,74,73,71,71]\n",
    "radii_3rd_period = [125,118,110,104,99,98]\n",
    "\n",
    "plt.scatter(group,radii_2nd_period, label=\"2nd Period\")\n",
    "plt.scatter(group,radii_3rd_period, label=\"3rd Period\")\n",
    "plt.xlabel(\"Group\")\n",
    "plt.ylabel(\"Atomic radii / pm\")\n",
    "plt.legend()\n",
    "plt.show()"
   ]
  },
  {
   "cell_type": "markdown",
   "id": "abef10e9",
   "metadata": {},
   "source": [
    "## Further customisation options\n",
    "\n",
    "### Changing the colour on graphs\n",
    "\n",
    "There are many options within `matplotlib` to modify the appearance of a graph. For example, you may want to change the colour of lines or data points in your graph. This may not seem like an important aspect of coding, but this can be useful if you are creating multiple charts for reports or presentations, and you want consistency between them. \n",
    "\n",
    "`matplotlib` chooses default colours for plotting multiple datasets: the first `plt.plot()`/`plt.scatter()` routine will use the colour blue, the second will use orange, and so on.\n",
    "\n",
    "Changing the colour of a line or scatter plot in Python requires a small addition to the `plt.plot()` or `plt.scatter()` routines. This command is `color=\"\"`, where this is preceeded by a comma (similar to the syntax of `label=\"\"` command in the same routines). \n",
    "\n",
    "Note that the syntax in `matplotlib` uses the American spelling for ‘color’, instead of the British spelling.\n",
    "\n",
    "For example, if you wanted to change the colour of the scatter plots from blue to red in the completed code from activity 3 the entire line would appear\n",
    "\n",
    "    plt.scatter(group,radii_2nd_period, label=\"2nd Period\", color=\"red\")\n",
    "\n",
    "This will however change the next plotted series to the default blue, so to fully customise you would need to state the colours for each series.\n",
    "\n",
    "Most of the common colours you could name are included in `matplotlib`. For a full list of the available colours you can check the [Matplotlib documentation]."
   ]
  },
  {
   "cell_type": "markdown",
   "id": "d4c09ef7",
   "metadata": {},
   "source": [
    "### Gridlines\n",
    "\n",
    "There are instances where you may want to include gridlines on your plots. To include major grdilines you would use the command:\n",
    "\n",
    "    plt.grid()\n",
    "\n",
    "If you wanted to include major gridlines and minor gridlines you would use the two following commands:\n",
    "\n",
    "    plt.grid(which='both')\n",
    "    plt.minorticks_on()\n",
    "\n",
    "Where the second command turns on the minor ticks on both axis, and the 'both' in the plt.grid() command indicates both the minor and major gridlines. Further options can be found in the Matplotlib documentation (https://matplotlib.org/stable/api/_as_gen/matplotlib.pyplot.grid.html)"
   ]
  },
  {
   "cell_type": "markdown",
   "id": "630154f7",
   "metadata": {},
   "source": [
    "### Exporting plots as image files\n",
    "\n",
    "Once you have successfully created graphs with Python, you need to be able to save them for later use or to include them in other resources.\n",
    "\n",
    "`matplotlib` has a command for this:\n",
    "\n",
    "    plt.savefig(\"file_name.png\")\n",
    "\n",
    "Here, `\"file_name.png\"` is the name you choose for the saved graph. It will be saved in a `.png` format.\n",
    "\n",
    "It is also possible to save a graph as a PDF file by changing the `.png` extension in the previous routine to `.pdf`.\n",
    "\n",
    "Note the `plt.savefig()` command must go *before* the `plt.show()` command. If you do not do this, then the saved image file will be blank. \n",
    "\n",
    "\n",
    "\n",
    "$$$$ SM - This is how it works in jupyterlab, not sure how it will work elsewhere $$$$"
   ]
  },
  {
   "cell_type": "markdown",
   "id": "d6857f12",
   "metadata": {},
   "source": [
    "### Superscripts and subscripts on plots\n",
    "\n",
    "When displaying strings on plots generated using `matplotlib`, such as axis labels and legends, you may noticed that you have not been able to add formatting, this is because strings are displayed in plain text. This missing formatting is important when labelling scientific data, particularly for units or chemical formulas.\n",
    "\n",
    "As an example, consider the line of code to label the y axis with the concentration of some reaction species, [A], with the incorrect formatting for the units of concentration. \n",
    "\n",
    "    plt.ylabel(\"[A]/mol dm-3\")\n",
    "    \n",
    "To correctly display the ‘$-3$’ in superscript you can use the `pyplot` command:\n",
    "\n",
    "    plt.ylabel(\"[A]/mol dm$^{-3}$\")\n",
    "    \n",
    "In this command:\n",
    "\n",
    "* the first and second dollar signs, `$`, indicate the start and end of and the text you want to be formatted (the dollar signs will not be printed in the string)\n",
    "* the curly braces, `{}`, contain the text you want to apply formatting to\n",
    "* the caret, `^`, goes before the curly braces and is  used to indicate the text within the braces should be a superscript.\n",
    "\n",
    "\n",
    "Another common formatting option you will need is subscript. This is especially important when it comes to chemical formulas. Subscripts use a similar syntax to superscripts, but use an underscore `_` instead of the caret `^`.\n",
    "\n",
    "So if in the above example A was nitrogen dioxide you would use the following command:\n",
    "    \n",
    "    plt.ylabel(\"[NO$_{2}$]/mol dm$^{-3}$\")\n"
   ]
  },
  {
   "cell_type": "markdown",
   "id": "0f09f12d",
   "metadata": {},
   "source": [
    "## Todo\n",
    "\n",
    "Add more activities related to the options above"
   ]
  },
  {
   "cell_type": "code",
   "execution_count": null,
   "id": "c96f413a",
   "metadata": {},
   "outputs": [],
   "source": []
  }
 ],
 "metadata": {
  "kernelspec": {
   "display_name": "Python 3 (ipykernel)",
   "language": "python",
   "name": "python3"
  },
  "language_info": {
   "codemirror_mode": {
    "name": "ipython",
    "version": 3
   },
   "file_extension": ".py",
   "mimetype": "text/x-python",
   "name": "python",
   "nbconvert_exporter": "python",
   "pygments_lexer": "ipython3",
   "version": "3.9.13"
  }
 },
 "nbformat": 4,
 "nbformat_minor": 5
}
