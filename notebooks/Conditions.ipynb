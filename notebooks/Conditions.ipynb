{
 "cells": [
  {
   "cell_type": "markdown",
   "id": "bfa23092-475a-4e40-a6cd-538bb1b16a5a",
   "metadata": {},
   "source": [
    "# Comparisons and Conditional Statements"
   ]
  },
  {
   "cell_type": "markdown",
   "id": "27111d44-d8ba-4393-bb63-7a1521a4a956",
   "metadata": {},
   "source": [
    "## **Requirements**"
   ]
  },
  {
   "cell_type": "markdown",
   "id": "98242630-1ee1-4fe6-bd25-d3bd5805c7ee",
   "metadata": {},
   "source": [
    "- Variables\n",
    "- Mathematical Operations\n",
    "- Data types"
   ]
  },
  {
   "cell_type": "markdown",
   "id": "63b3ed50-5670-4fcb-9cd4-81e0a50b650e",
   "metadata": {},
   "source": [
    "## **Learning Objectives**"
   ]
  },
  {
   "cell_type": "markdown",
   "id": "b56ee7b2-cffc-471e-9fd2-bf2b2c437894",
   "metadata": {},
   "source": [
    "- To understand how in python we can compare objects to each other.\n",
    "- To understand how we can use logical statements to perform multiple comparisons or assessments at once.\n",
    "- To see how we can build statements and scripts that can do different tasks when we give them different inputs."
   ]
  },
  {
   "cell_type": "markdown",
   "id": "9e1407f3-8962-4a02-9956-ceaa9523df12",
   "metadata": {},
   "source": [
    "## **Lessons**"
   ]
  },
  {
   "cell_type": "markdown",
   "id": "dad9b34b-ec0d-4b52-abd3-07b9efc631f4",
   "metadata": {},
   "source": [
    "### Comparisons in Python"
   ]
  },
  {
   "cell_type": "markdown",
   "id": "423201d6-956c-4bab-973f-981ee93188ef",
   "metadata": {},
   "source": [
    "Python has a number of different ways in which it can compare objects, variables or just numbers. These can be very useful both for simple tasks (\"Does H$_2$O have a higher molecular weight than NH$_3$\") and more complex ones (\"How do we know that this peak in an IR spectrum is above the baseline noise?\")\n",
    "\n",
    "Let us start by looking at a few of the [mathematical operators](https://en.wikipedia.org/wiki/Test_Card_F#/media/File:Testcard_F.jpg) (either identical or very similar to how you would write them down on paper) that can be used directly in Python:"
   ]
  },
  {
   "cell_type": "code",
   "execution_count": null,
   "id": "de0e669c-1c14-47ad-b12d-5b25c0fdaf35",
   "metadata": {},
   "outputs": [],
   "source": [
    "4 > 2"
   ]
  },
  {
   "cell_type": "code",
   "execution_count": null,
   "id": "e5d946d4-36d2-4114-bb2f-326975ee0ee5",
   "metadata": {},
   "outputs": [],
   "source": [
    "5.1 < 3.6"
   ]
  },
  {
   "cell_type": "code",
   "execution_count": null,
   "id": "dd5f7b7d-b9c7-411c-bef6-af9154332c9f",
   "metadata": {},
   "outputs": [],
   "source": [
    "4 >= 4"
   ]
  },
  {
   "cell_type": "markdown",
   "id": "732d5859-56b9-48d6-beff-8ee521d46879",
   "metadata": {},
   "source": [
    "We can see a few things from the above statements: firstly that running a comparison between two numbers in a code block outputs either 'True' if the expression is indeed true, or 'False' if not. Second, both the greater than (\">\") and less than (\"<\") mathematical operations are identical to those used in standard mathematical notation, while the greater than or equal to operation (\"≥\") is written with two characters, ```>=```. Finally, we can see that this works for both numerical [data types](https://en.wikipedia.org/wiki/Test_Card_F#/media/File:Testcard_F.jpg) in Python - integers and floats. \n",
    "\n",
    "What if we wanted to check if two values were exactly equal? **Be careful!** We know from our understanding of [variables](https://en.wikipedia.org/wiki/Test_Card_F#/media/File:Testcard_F.jpg) that ```=``` is used in python to assign values to variable names, we cannot use it here. Instead:"
   ]
  },
  {
   "cell_type": "code",
   "execution_count": null,
   "id": "962ed8f3-bb4e-4826-a348-4d42fb38025e",
   "metadata": {},
   "outputs": [],
   "source": [
    "4 == 4"
   ]
  },
  {
   "cell_type": "code",
   "execution_count": null,
   "id": "39103a6d-8149-4a1e-9be8-f59f8231d729",
   "metadata": {},
   "outputs": [],
   "source": [
    "4 != 4"
   ]
  },
  {
   "cell_type": "code",
   "execution_count": null,
   "id": "ff5c56d6-1170-4464-8ce3-23395e43a744",
   "metadata": {},
   "outputs": [],
   "source": [
    "3.1 != 3"
   ]
  },
  {
   "cell_type": "markdown",
   "id": "c42c319f-594f-47a2-bb2f-535840c1ed80",
   "metadata": {},
   "source": [
    "The double equals ```==``` is used to compare if two values are equal, while ```!=``` checks if two values are not equal.\n",
    "\n",
    "What about other data types? Let us try some examples of strings or lists using the ```==``` comparison operator."
   ]
  },
  {
   "cell_type": "code",
   "execution_count": null,
   "id": "2331f446-16b9-4b2a-82ca-c7c90aeaa15c",
   "metadata": {},
   "outputs": [],
   "source": [
    "\"CH4\" == \"CH4\""
   ]
  },
  {
   "cell_type": "code",
   "execution_count": null,
   "id": "3c29dc42-ae21-4a7f-beff-8c115fb3a7c8",
   "metadata": {},
   "outputs": [],
   "source": [
    "\"NH3\" == \"H3N\""
   ]
  },
  {
   "cell_type": "code",
   "execution_count": null,
   "id": "be03a6a0-eff3-4135-9258-97c46a00221d",
   "metadata": {},
   "outputs": [],
   "source": [
    "[2, 3, 5] == [2, 3, 4]"
   ]
  },
  {
   "cell_type": "code",
   "execution_count": null,
   "id": "a6d6ecf7-38ca-4fc8-998f-9987dbd5a024",
   "metadata": {},
   "outputs": [],
   "source": [
    "[\"helium\", \"neon\", \"argon\"] == [\"helium\", \"neon\", \"argon\"]"
   ]
  },
  {
   "cell_type": "markdown",
   "id": "4239a695-24f5-4120-b42e-f7ca60b27aa2",
   "metadata": {},
   "source": [
    "Note that all parts of the string (including order of characters) and all parts of a list (including the order of elements) need to be identical for the ```==``` operation to return 'True'. There is an alternative comparison that can be made - what if we wanted to distinguish if those two lists not only contained the same elements in the same order but if they are exactly the same object (i.e. rather than just looking the same, they are actually the same 'behind the scenes')? For this, we can use ```is```:"
   ]
  },
  {
   "cell_type": "code",
   "execution_count": null,
   "id": "6ebfdf09-34fa-4919-a6f1-ba1b6fc12e1f",
   "metadata": {},
   "outputs": [],
   "source": [
    "x = [\"N\", \"H\", 3] \n",
    "y = [\"N\", \"H\", 3]\n",
    "x is y"
   ]
  },
  {
   "cell_type": "code",
   "execution_count": null,
   "id": "462ee079-297b-4e00-bd37-6ff3df21a4af",
   "metadata": {},
   "outputs": [],
   "source": [
    "x = y\n",
    "x is y"
   ]
  },
  {
   "cell_type": "markdown",
   "id": "be246bfa-183d-42a7-8388-b0af6bbba21c",
   "metadata": {},
   "source": [
    "In the first example, despite the two variables, ```x``` and ```y```, containing the same chemical formula (in the same order), the two are currently two separate instances of variables according to python, so ```x is y``` is False. In the second block, we specifically reassign the variable x to the value of y, and so now the ```is``` comparison is true."
   ]
  },
  {
   "cell_type": "markdown",
   "id": "0deade2a-b54e-4888-8b22-48f902c82ce4",
   "metadata": {},
   "source": [
    "### Boolean logic operators"
   ]
  },
  {
   "cell_type": "markdown",
   "id": "b818dedf-8ad5-4926-89d1-76e721599366",
   "metadata": {},
   "source": [
    "Can we make multiple comparisons at the same time - i.e. to check if a number is within a certain range of bounds? Yes, and for this, we need Boolean operators - these are written as words but still make comparisons between two things: ```and```, ```or``` and ```not```. \n",
    "\n",
    "What does these mean? Let's start with ```and```:"
   ]
  },
  {
   "cell_type": "code",
   "execution_count": null,
   "id": "302f094f-766c-47fb-95ae-a89eed39ffac",
   "metadata": {},
   "outputs": [],
   "source": [
    "z = 2\n",
    "z < 3 and z > 0.1 "
   ]
  },
  {
   "cell_type": "code",
   "execution_count": null,
   "id": "b15d57e0-6260-42a5-94d8-f1e45743a40b",
   "metadata": {},
   "outputs": [],
   "source": [
    "z < 3 and z != 2"
   ]
  },
  {
   "cell_type": "markdown",
   "id": "06f35439-6217-4e18-a68b-e4375fa3025a",
   "metadata": {},
   "source": [
    "When using ```and```, the statement before the ```and``` and after the ```and``` must **both** be 'True' for the overall result to be 'True', hence why the two code blocks give different answers: while z is less than 3 in both statements, z is equal to 2, and so the second statement in the second code block is 'False'. I.e. if Statement A is True AND Statement B is False, ```A and B``` is False.\n",
    "\n",
    "What about ```or```?"
   ]
  },
  {
   "cell_type": "code",
   "execution_count": null,
   "id": "f016ee5a-25b4-4547-857f-b10f5c1d48d3",
   "metadata": {},
   "outputs": [],
   "source": [
    "z < 3 or z > 0.1"
   ]
  },
  {
   "cell_type": "code",
   "execution_count": null,
   "id": "e97f2cdf-8e79-4eba-b5dc-2cbca8710b8e",
   "metadata": {},
   "outputs": [],
   "source": [
    "z < 3 or z !=2"
   ]
  },
  {
   "cell_type": "code",
   "execution_count": null,
   "id": "d14bcff8-6b5f-4055-88bb-e18e3a0cafd0",
   "metadata": {},
   "outputs": [],
   "source": [
    "z > 3 or z != 2"
   ]
  },
  {
   "cell_type": "markdown",
   "id": "448d821c-a069-455f-9992-a6320bbea6fb",
   "metadata": {},
   "source": [
    "With ```or``` - only one of the two comparisons must be true for the whole statement to be 'True', though the whole statement will still be False if neither of the two are True. \n",
    "\n",
    "You don't need to just have two comparisons!"
   ]
  },
  {
   "cell_type": "code",
   "execution_count": null,
   "id": "87ab9e7d-dc0d-44d5-9f0e-94b79f728f5f",
   "metadata": {},
   "outputs": [],
   "source": [
    "w = \"tungsten\"\n",
    "w == \"neon\" or w == \"iron\" or w == \"bismuth\" or w == \"tungsten\""
   ]
  },
  {
   "cell_type": "markdown",
   "id": "1c2b08e0-672b-46e7-b92e-ee9a35d69907",
   "metadata": {},
   "source": [
    "Finally, not is slightly different - first it should be used before a statement, i.e. (```not a == 2```). \n",
    "It can then be used to 'invert' the True or False behaviour of a statement: if a statement was true, not will make it False, or vice versa:"
   ]
  },
  {
   "cell_type": "code",
   "execution_count": null,
   "id": "f30a769e-184f-4d13-aab3-ccd2a91f6470",
   "metadata": {},
   "outputs": [],
   "source": [
    "z = 2\n",
    "not z <= 2"
   ]
  },
  {
   "cell_type": "code",
   "execution_count": null,
   "id": "40c9c586-0376-48c5-97cb-279d31c26067",
   "metadata": {},
   "outputs": [],
   "source": [
    "not z > 3 or z != 2"
   ]
  },
  {
   "cell_type": "markdown",
   "id": "c64ae47b-9a30-4e23-a0f1-476b24106163",
   "metadata": {},
   "source": [
    "#### **Note for the future: may be worth linking to outside resources on Boolean logic?**"
   ]
  },
  {
   "cell_type": "markdown",
   "id": "79597a1c-5dd4-4426-b21e-eb8135a9bfd0",
   "metadata": {},
   "source": [
    "### Conditional Statements"
   ]
  },
  {
   "cell_type": "markdown",
   "id": "feabf370-ad13-48b3-aba6-16dc7c74d5c0",
   "metadata": {},
   "source": [
    "How are these comparisons useful for working with actual chemical data though? Writing a comparison for every data point would get very tiring! This is where conditional statements come in -- we can use the comparisons we have learned about to check **if** certain relationships are true as part of our data sets, and then either do something or not, or even doing a different operation...\n",
    "\n",
    "We do this, sensibly, through what are called **if statements**. If statements are like [loops](https://en.wikipedia.org/wiki/Test_Card_F#/media/File:Testcard_F.jpg) in requiring specific syntax:\n",
    "```\n",
    "if <statement>:\n",
    "    what to do if statement is true\n",
    "```\n",
    "\n",
    "When the statement after ```if``` is True, then Python will go on to do whatever is **indented**. Indentation is the way for python to know what is part of the ```if``` statement and what is the rest of the code. As a standard, indenting is 4 spaces before the code line -- many programs like jupyter notebook will automatically do this indenting after the if statement is written and you move to a new line with the Return key.\n",
    "\n",
    "If what comes after the ```if``` is False, then the indented code is ignored, and Python continues onto whatever the next non-indented lines are. As with loops, there must be a colon after the if statement, and there must be an indentation -- not having these can cause errors."
   ]
  },
  {
   "cell_type": "code",
   "execution_count": null,
   "id": "3761936a-7163-41de-813b-580ce83a8857",
   "metadata": {},
   "outputs": [],
   "source": [
    "x = \"CH4\"\n",
    "y = \"CH4\"\n",
    "if x == y:\n",
    "    ### This part of the code is indented, and is run if the if statement is true\n",
    "    print(\"Yes, these are the same formula\")"
   ]
  },
  {
   "cell_type": "code",
   "execution_count": null,
   "id": "34f11095-cd62-40a6-ad7a-9df4dd7eae14",
   "metadata": {},
   "outputs": [],
   "source": [
    "x = \"CH4\"\n",
    "y = \"NH3\"\n",
    "if x == y:\n",
    "    print(\"Yes, these are the same formula\")\n",
    "\n",
    "print(\"The indentation has ended, this code line is always run\")"
   ]
  },
  {
   "cell_type": "markdown",
   "id": "f5e0ff28-eec5-4508-b5dd-ccea6d24c9e9",
   "metadata": {},
   "source": [
    "What if we want to have multiple different categories and multiple different outcomes? We can use ```if... else``` if we want to do one thing if a statement is true, and then something else for for all other possibilities. Alternatively, if we have more than two decisions to make, we can use ```if... elif... else```, with ```elif``` statements acting like other if statements that are checked if they are true. For example:"
   ]
  },
  {
   "cell_type": "code",
   "execution_count": null,
   "id": "b66d509c-f888-45a0-ab94-7c8115852979",
   "metadata": {},
   "outputs": [],
   "source": [
    "x = \"CH4\"\n",
    "if x == \"CH4\":\n",
    "    print(\"This compound is methane\")\n",
    "elif x != \"NH3\":\n",
    "    print(\"This compound is not ammonia\")\n",
    "else:\n",
    "    print(\"This compound is ammonia\")"
   ]
  },
  {
   "cell_type": "code",
   "execution_count": null,
   "id": "64bfd426-81a8-44f3-a54e-cd2f9e99687e",
   "metadata": {},
   "outputs": [],
   "source": [
    "x = \"H2O\"\n",
    "if x == \"CH4\":\n",
    "    print(\"This compound is methane\")\n",
    "elif x != \"NH3\":\n",
    "    print(\"This compound is not ammonia\")\n",
    "else:\n",
    "    print(\"This compound is ammonia\")"
   ]
  },
  {
   "cell_type": "markdown",
   "id": "46cb8ac8-5627-4ddb-a169-552794c2099d",
   "metadata": {},
   "source": [
    "Be careful, conditional statements are strictly ordered - if the first ```if``` is True, then that code block will be run, while all further ```elif``` statements are ignored, even if they would also be true!"
   ]
  },
  {
   "cell_type": "markdown",
   "id": "0a5899ad-5b4a-439b-bd47-df83a6d37136",
   "metadata": {},
   "source": [
    "### **Tasks**"
   ]
  },
  {
   "cell_type": "markdown",
   "id": "116cf3f9-74fa-46fe-a06c-ee5cec0a4b9b",
   "metadata": {},
   "source": [
    "1. "
   ]
  },
  {
   "cell_type": "markdown",
   "id": "120f98bf-03ef-49b8-8338-6081411d2b10",
   "metadata": {},
   "source": [
    "### **Learning Outcomes**"
   ]
  },
  {
   "cell_type": "markdown",
   "id": "b2a04b94-1118-422a-a616-ff6983cb92fa",
   "metadata": {},
   "source": [
    "In this lesson we have learned:\n",
    "- How to make comparisons between numbers and variables of different data types, getting Boolean True or False statements\n",
    "- How we can use Boolean operators such as ```and``` and ```or``` to compare if multiple statements are True or False in different combinations.\n",
    "- How to use ```if...elif...else``` statements to do certain tasks only if certain comparisons or statements are the case."
   ]
  },
  {
   "cell_type": "markdown",
   "id": "be1e9adf-0c99-47e1-8fe7-01f461d77e08",
   "metadata": {},
   "source": [
    "### TODO"
   ]
  },
  {
   "cell_type": "markdown",
   "id": "4163f470-0898-4966-aa1e-fa2f9644278b",
   "metadata": {},
   "source": [
    "- add comments to code?\n",
    "- note different data type behaviour for is (e.g. strings versus lists as given)\n",
    "- Think of more imaginative chemistry related examples for the lessons\n",
    "- More tasks!\n",
    "- Debugging task - maybe using a complex if not statement giving the wrong output?"
   ]
  },
  {
   "cell_type": "code",
   "execution_count": null,
   "id": "105d0079-c0ae-4a11-bccd-4d84b32ad1b5",
   "metadata": {},
   "outputs": [],
   "source": []
  }
 ],
 "metadata": {
  "kernelspec": {
   "display_name": "Python [conda env:base] *",
   "language": "python",
   "name": "conda-base-py"
  },
  "language_info": {
   "codemirror_mode": {
    "name": "ipython",
    "version": 3
   },
   "file_extension": ".py",
   "mimetype": "text/x-python",
   "name": "python",
   "nbconvert_exporter": "python",
   "pygments_lexer": "ipython3",
   "version": "3.12.7"
  }
 },
 "nbformat": 4,
 "nbformat_minor": 5
}
