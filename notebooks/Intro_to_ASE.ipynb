{
 "cells": [
  {
   "cell_type": "markdown",
   "id": "1639ee9d-703b-4c01-9a65-45d2a84cf4b0",
   "metadata": {},
   "source": [
    "## The Atomic Simulation Environment, ASE"
   ]
  },
  {
   "cell_type": "markdown",
   "id": "24eee375-0afd-4f6c-9fca-1c5268956e59",
   "metadata": {},
   "source": [
    "## Prerequisites\n",
    "\n",
    "- For loops\n",
    "- Matplotlib"
   ]
  },
  {
   "cell_type": "code",
   "execution_count": null,
   "id": "4816f2e4-458a-47c8-b949-4722276561c1",
   "metadata": {},
   "outputs": [],
   "source": [
    "## Learning Outcomes"
   ]
  },
  {
   "cell_type": "markdown",
   "id": "4424d3e8-1280-45e1-97c8-86fb203059ce",
   "metadata": {},
   "source": [
    "The Atomic Simulation Environment __[(ASE)](https://wiki.fysik.dtu.dk/ase/)__, is a python library containing tools to undertake, manipulate and analyse molecular simulations.\n",
    "\n",
    "The ASE supports several external **calculators**, including LAMMPS, QuantumEspresso and Orca (amongst many others) and also contains a number of inbuilt calculators. A list of external and inbuilt calculators is __[here](https://wiki.fysik.dtu.dk/ase/ase/calculators/calculators.html)__."
   ]
  },
  {
   "cell_type": "markdown",
   "id": "5c80ae51-0086-46bb-abe9-c4f2a9b8aefc",
   "metadata": {},
   "source": [
    "### Atoms objects"
   ]
  },
  {
   "attachments": {
    "e1de4673-c8c2-46ca-ae6e-5f5ee70d7054.png": {
     "image/png": "[encoded data removed]"
    }
   },
   "cell_type": "markdown",
   "id": "e522f21f-4b1a-4c0c-af05-feab7016aea9",
   "metadata": {},
   "source": [
    "At the core of the ASE, is the **Atoms object**. Every _calculator_ operates on an _Atoms object_.\n",
    "\n",
    "An Atoms object is what we'd normally call a molecule. Makes sense right? A molecule is simply a list of atoms.\n",
    "\n",
    "Before we start, take a look at the below acetone molecule:\n",
    "\n",
    "![acetone.png](attachment:e1de4673-c8c2-46ca-ae6e-5f5ee70d7054.png)\n",
    "\n",
    "What information do I need to provide in order to distinguish each atom in the molecule? If you already have a background in molecular simulation, you may have already have some ideas from input files you have written.\n"
   ]
  },
  {
   "cell_type": "markdown",
   "id": "161f0dd0-c37c-44f8-bedc-5919fe9a8b48",
   "metadata": {},
   "source": [
    "Some further questions to help you think about your answer:\n",
    "- It is fairly straightforward to distiguish the single oxygen atom:\n",
    "    - Using **Atomic symbol / number**\n",
    "-  The central carbon is different from the two methyl carbons:\n",
    "    - Being bound to the electronegative oxygen atom, will cause the **partial charge** to be different\n",
    "- While not shown, some atoms might be isotope labelled:\n",
    "    - The **atomic mass** is therefore useful\n",
    "- It is otherwise difficult to distinguish the two methyl carbon atoms or the six hydrogens (assuming the methyl groups rotate freely)\n",
    "    - Therefore the **atom positions** are required to distinguish these atoms."
   ]
  },
  {
   "cell_type": "markdown",
   "id": "e34436a2-d7f4-4324-ac12-a30b74b76deb",
   "metadata": {},
   "source": [
    "The ASE **Atom object** (for a single atom) provides the following information:\n",
    "\n",
    "- Atomic Symbol / Number\n",
    "- Position\n",
    "- Mass\n",
    "- Momentum\n",
    "- Magnetic moment\n",
    "- Charge\n",
    "- Tag (that can be used for special purposes)\n"
   ]
  },
  {
   "cell_type": "markdown",
   "id": "09b63bdf-36ea-4f96-a00d-6e687eedad0d",
   "metadata": {},
   "source": [
    "Let's dive in.\n",
    "\n",
    "First import the Atoms class of the ASE:"
   ]
  },
  {
   "cell_type": "code",
   "execution_count": null,
   "id": "c383410a-714a-458d-9c57-9858e5cf54bd",
   "metadata": {},
   "outputs": [],
   "source": [
    "from ase import Atoms"
   ]
  },
  {
   "cell_type": "markdown",
   "id": "e0c52455-f273-48c2-9d4b-d42d42839478",
   "metadata": {},
   "source": [
    "Now let's make our first molecule (_ahem_ Atoms object), a simple CO molecule:"
   ]
  },
  {
   "cell_type": "code",
   "execution_count": null,
   "id": "648ce119-acd7-4b15-a684-2f6ffe458993",
   "metadata": {},
   "outputs": [],
   "source": [
    "d = 1.1\n",
    "co = Atoms('CO', positions=[(0, 0, 0), (0, 0, d)])"
   ]
  },
  {
   "cell_type": "markdown",
   "id": "b3160912-4b27-448d-a703-aedd26f3a363",
   "metadata": {},
   "source": [
    "The ASE also provides a variety of __[molecular viewers](https://wiki.fysik.dtu.dk/ase/ase/visualize/visualize.html)__, with different functionalities. For now, we'll use a simple but reliable viewer, that works directly in jupyter notebooks, called **x3d**:"
   ]
  },
  {
   "cell_type": "code",
   "execution_count": null,
   "id": "a176851c-6c5f-4160-a94c-8f3d1614335f",
   "metadata": {},
   "outputs": [],
   "source": [
    "from ase.visualize import view\n",
    "view(co, viewer='x3d')"
   ]
  },
  {
   "cell_type": "markdown",
   "id": "ddb72a6c-651d-4d97-9fd9-499d6a8e9117",
   "metadata": {},
   "source": [
    "In this simple viewer, we can use the mouse to rotate, zoom and translate the molecule within the viewer window."
   ]
  },
  {
   "cell_type": "markdown",
   "id": "21e1f876-bf93-4b94-9936-c11ad719122a",
   "metadata": {},
   "source": [
    "Next we'll calculate the energy of our CO molecule. We will use the EMT calculator as it is quite fast and is implemented directly in ASE. To use a calculator, we need the following three steps:\n",
    "1. Import the calculator\n",
    "2. Setup the calculator\n",
    "3. Attach the calculator to our Atoms object"
   ]
  },
  {
   "cell_type": "code",
   "execution_count": null,
   "id": "76308f29-0f9a-44c3-ab9f-31b283e81bb4",
   "metadata": {},
   "outputs": [],
   "source": [
    "#1. Import\n",
    "from ase.calculators.emt import EMT\n",
    "#2. Setup calculator, EMT doesn't need any options, so we just need to define it\n",
    "calc = EMT()\n",
    "#3. Attach the calculator to our Atoms object\n",
    "co.calc = calc"
   ]
  },
  {
   "cell_type": "markdown",
   "id": "748bdbf1-9e50-424d-9d9d-07939a47c2f5",
   "metadata": {},
   "source": [
    "And now to calculate the energy of the molecule, we use the **get_potential_energy()** function:"
   ]
  },
  {
   "cell_type": "code",
   "execution_count": null,
   "id": "2b21fcbc-8d48-4ed4-962d-30984488a953",
   "metadata": {},
   "outputs": [],
   "source": [
    "co.get_potential_energy()"
   ]
  },
  {
   "cell_type": "markdown",
   "id": "6d220b8b-63b3-4fe1-8d0b-f81184a7a79c",
   "metadata": {},
   "source": [
    "Now let's manipulate our molecule, above we defined our bond length using the variable `d` to indicate our bond length. So we can easily change our bond length in a **for loop**.\n",
    "\n",
    "To set the CO bond length directly, we can use the __[**set_distance()** function](https://wiki.fysik.dtu.dk/ase/ase/atoms.html#ase.Atoms.set_distance)__. The set_distance function requires, at a minimum, three arguments; the index of _atom0_, index of _atom2_ (because our Atoms object is mostly going to be bigger than diatomic), and the _distance_ we want to set."
   ]
  },
  {
   "cell_type": "code",
   "execution_count": null,
   "id": "642f800f-7478-4de4-a2ff-b2c50d04864a",
   "metadata": {},
   "outputs": [],
   "source": [
    "# Set up empty lists for distances and energies\n",
    "distances = []\n",
    "energies = []\n",
    "\n",
    "for distance in range(90,200): #loop variable must be an integer\n",
    "    co.calc = calc\n",
    "    co.set_distance(0, 1, distance * 0.01)\n",
    "    distances.append(distance * 0.01)\n",
    "    energies.append(co.get_total_energy())\n"
   ]
  },
  {
   "cell_type": "markdown",
   "id": "bf439b10-419d-4af0-9d34-70adbec59e7e",
   "metadata": {},
   "source": [
    "We can use **matplotlib** to plot our results:"
   ]
  },
  {
   "cell_type": "code",
   "execution_count": null,
   "id": "71b9cb8d-aac8-4e81-a60f-2e8e1f82ca8d",
   "metadata": {},
   "outputs": [],
   "source": [
    "import matplotlib.pyplot as plt\n",
    "\n",
    "ax = plt.gca()\n",
    "ax.plot(distances, energies)\n",
    "ax.set_xlabel('Distance [Å]')\n",
    "ax.set_ylabel('Total energy [eV]')\n",
    "plt.show()"
   ]
  },
  {
   "cell_type": "markdown",
   "id": "2c620673-38f4-4ba0-8d6b-498daf7e9393",
   "metadata": {},
   "source": [
    "From our plot above, we can largely tell the equilibrium CO distance. We can also extract the minimum distance from the lists we created:"
   ]
  },
  {
   "cell_type": "code",
   "execution_count": null,
   "id": "95f260c1-ab5b-4eb8-9bc3-338696ee3974",
   "metadata": {},
   "outputs": [],
   "source": [
    "print(\"Minimum energy =\", min(energies))\n",
    "\n",
    "print(\"Equilibrium bond length =\", distances[energies.index(min(energies))])\n"
   ]
  },
  {
   "cell_type": "markdown",
   "id": "f017ae4a-f850-4365-b7d2-bb75bb6f84f9",
   "metadata": {},
   "source": [
    "## Getting and Setting\n",
    "\n",
    "We've just discovered two functions, `set_distance()` and `get_potential_energy()`. **get**ting and **set**ting are general concepts, with a fairly straighforward meaning:\n",
    " - **get** will interrogate the Atoms object and return a value\n",
    " - **set** will change the value in the Atoms object\n",
    "Most things can be both **get**ted and **set**ted\n",
    "\n",
    "Common get functions include:\n",
    " - get_distance(), get_angle(), get_dihedral()\n",
    " - get_chemical_formula()\n",
    " - get_dipole_moment()\n",
    "\n",
    "Common set functions include:\n",
    " - set_distance(), set_angle(), set_dihedral()\n",
    " - set_chemical_formula()\n",
    " - set_cell() (for periodic systems)\n",
    "\n",
    "A complete list is in the __[Atoms object documentation](https://wiki.fysik.dtu.dk/ase/ase/atoms.html)__"
   ]
  },
  {
   "cell_type": "markdown",
   "id": "b1052def-b8fe-48f4-a2bf-ed97cdd144b1",
   "metadata": {},
   "source": [
    "## Reading and writing molecule files\n",
    "\n",
    "We've just made our own CO Atoms object here, but for something more complicated, ASE has its own methods to both read and write many __[common molecule formats](https://wiki.fysik.dtu.dk/ase/ase/io/io.html)__.\n",
    "\n",
    "As always, we import:\n"
   ]
  },
  {
   "cell_type": "code",
   "execution_count": null,
   "id": "99bb88b8-0bfc-4844-b7fd-71fe3195eca3",
   "metadata": {},
   "outputs": [],
   "source": [
    "from ase.io import read, write"
   ]
  },
  {
   "cell_type": "markdown",
   "id": "aef470cb-e15a-4f19-82c7-1e9fcdd203d8",
   "metadata": {},
   "source": [
    "Then to read a molecule, we simply specify the filename, ASE uses the file extension to automatically determine the format of the file."
   ]
  },
  {
   "cell_type": "code",
   "execution_count": null,
   "id": "ca3aa17a-52a4-4cc8-b3cd-67c469b57493",
   "metadata": {},
   "outputs": [],
   "source": [
    "ethane = read(\"ethane.xyz\")"
   ]
  },
  {
   "cell_type": "markdown",
   "id": "12a9c9ff-868b-49e4-a84c-e9ffced62f1e",
   "metadata": {},
   "source": [
    "And to write, we similarly provide a filename, and ASE will use the extension we provide in order to determine the correct file format.\n",
    "The write function takes two arguments:\n",
    "`write(filename, Atoms_object)`"
   ]
  },
  {
   "cell_type": "code",
   "execution_count": null,
   "id": "086a2c5e-2cfd-4a68-aec1-841121b847c4",
   "metadata": {},
   "outputs": [],
   "source": [
    "ethane_new = 'ethane_new.xyz'\n",
    "write(ethane_new, ethane)\n"
   ]
  },
  {
   "cell_type": "code",
   "execution_count": null,
   "id": "1ed95dbd-d7f2-4611-adb9-21cdd3015686",
   "metadata": {},
   "outputs": [],
   "source": [
    "# TODO\n",
    "# more examples"
   ]
  }
 ],
 "metadata": {
  "kernelspec": {
   "display_name": "Python 3 (ipykernel)",
   "language": "python",
   "name": "python3"
  },
  "language_info": {
   "codemirror_mode": {
    "name": "ipython",
    "version": 3
   },
   "file_extension": ".py",
   "mimetype": "text/x-python",
   "name": "python",
   "nbconvert_exporter": "python",
   "pygments_lexer": "ipython3",
   "version": "3.13.1"
  }
 },
 "nbformat": 4,
 "nbformat_minor": 5
}
