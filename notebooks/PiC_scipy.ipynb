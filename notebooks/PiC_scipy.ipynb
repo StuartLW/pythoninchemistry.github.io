{
 "cells": [
  {
   "cell_type": "markdown",
   "id": "9242e111",
   "metadata": {},
   "source": [
    "# Prerequisites\n",
    "- `matplotlib`\n",
    "- `numpy`\n",
    "- functions\n",
    "- f-strings"
   ]
  },
  {
   "cell_type": "markdown",
   "id": "0dac4919",
   "metadata": {},
   "source": [
    "# Learning outcomes\n",
    "- Use physical and chemical constants from a library.\n",
    "- Convert between common units of temperature, pressure and energy.\n",
    "- Perform a linear regression and plot the result.\n",
    "- Perform a non-linear least-squares fit and plot the result."
   ]
  },
  {
   "cell_type": "markdown",
   "id": "ad0fb146-f9ef-4d6c-9a04-ce3a7ad3ddd2",
   "metadata": {},
   "source": [
    "# Scipy\n",
    "A scientific Python library that among other functions provides:\n",
    "- scientific constants\n",
    "- advanced linear regression\n",
    "- non-linear least squares curve fitting"
   ]
  },
  {
   "cell_type": "markdown",
   "id": "b33bf40b",
   "metadata": {},
   "source": [
    "## Use of scientific constants\n",
    "In any calculations or script you should define scientific constants with a clearly named variable rather than typing the number directly in your calculation. It is best practice to use the SI units for the constant."
   ]
  },
  {
   "cell_type": "code",
   "execution_count": null,
   "id": "1731cb41",
   "metadata": {},
   "outputs": [],
   "source": [
    "# Ideal gas constant\n",
    "R = 8.314 # in J K^-1 mol^-1\n",
    "# The volume of 1 mol of ideal gas at a pressure of 1 bar and a temperature of 298 K.\n",
    "p = 100_000 # in Pa\n",
    "n = 1 # in mol\n",
    "T = 298 # in K\n",
    "print(f\"The volume of 1 mol of ideal gas at standard pressure and 298 K is {1000*n*R*T/p:.2f} L.\")"
   ]
  },
  {
   "cell_type": "markdown",
   "id": "3e6b77c3",
   "metadata": {},
   "source": [
    "## Scientific constants with `scipy.constants`\n",
    "Import the `constants` package from the `scipy` library as a whole or import the specific constant(s) that you need."
   ]
  },
  {
   "cell_type": "code",
   "execution_count": null,
   "id": "ec42bf6b",
   "metadata": {},
   "outputs": [],
   "source": [
    "from scipy.constants import R,c\n",
    "print(f\"The ideal gas constant is R = {R} J K^-1 mol^-1)\")\n",
    "print(f\"The speed of light is c = {c} m s^-1\")"
   ]
  },
  {
   "cell_type": "code",
   "execution_count": null,
   "id": "62208e55",
   "metadata": {},
   "outputs": [],
   "source": [
    "import scipy.constants as c\n",
    "print(f\"The Boltzmann constant is k_B = {c.k} J K^-1\")\n",
    "print(f\"Planck's constant is h = {c.h} J s\")"
   ]
  },
  {
   "cell_type": "markdown",
   "id": "59a13bef",
   "metadata": {},
   "source": [
    "## Exercise\n",
    "Use the constants from the `scipy.constants` package to convert the energy of 1 kJ mol<sup>-1</sup> into\n",
    "- eV\n",
    "- cm<sup>-1</sup>"
   ]
  },
  {
   "cell_type": "code",
   "execution_count": null,
   "id": "5b030b98",
   "metadata": {},
   "outputs": [],
   "source": []
  },
  {
   "cell_type": "markdown",
   "id": "451e15a4",
   "metadata": {},
   "source": [
    "You can find a whole list of physical constants included in the `scipy.constants` package at https://docs.scipy.org/doc/scipy/reference/constants.html"
   ]
  },
  {
   "cell_type": "markdown",
   "id": "c51b2c98",
   "metadata": {},
   "source": [
    "## Advanced linear regression with `scipy.stats.linregress`\n",
    "The linear regression method provided by the `scipy` package provides some advanced statistical parameters, those that users may be familiar with from Microsoft Excel's LINEST:\n",
    "- Slope\n",
    "- Intercept\n",
    "- R value\n",
    "- P value\n",
    "- standard error in the slope\n",
    "- standard error in the intercept"
   ]
  },
  {
   "cell_type": "code",
   "execution_count": null,
   "id": "36ba6ccf",
   "metadata": {},
   "outputs": [],
   "source": [
    "# Define an x,y dataset that follows a linear trend\n",
    "import numpy as np\n",
    "x = np.arange(0,10)\n",
    "y = (3.0 + np.random.rand()) * (x + np.random.rand(10))"
   ]
  },
  {
   "cell_type": "code",
   "execution_count": null,
   "id": "5d715e20",
   "metadata": {},
   "outputs": [],
   "source": [
    "# Perform linear regression\n",
    "from scipy.stats import linregress\n",
    "result = linregress(x,y)\n",
    "print(f\"The linear regression parameters are: {result}\")"
   ]
  },
  {
   "cell_type": "markdown",
   "id": "c0d7c80a",
   "metadata": {},
   "source": [
    "### You can use `matplotlib` to visualise the data and the linear regression\n",
    "Each of the elements of the fitting results can be accessed by appending the name, separated by a dot from the regression result e.g. `result.slope` for the slope or `result.intercept` for the intercept."
   ]
  },
  {
   "cell_type": "code",
   "execution_count": null,
   "id": "5ad05330",
   "metadata": {},
   "outputs": [],
   "source": [
    "import matplotlib.pyplot as plt\n",
    "plt.scatter(x,y,label=\"Data\")\n",
    "plt.plot(x,x*result.slope + result.intercept,label=\"Regression\")\n",
    "plt.title(\"Linear regression\")\n",
    "plt.xlabel(\"x\")\n",
    "plt.ylabel(\"y\")\n",
    "plt.legend()\n",
    "plt.show()"
   ]
  },
  {
   "cell_type": "markdown",
   "id": "4b1acf38",
   "metadata": {},
   "source": [
    "## Exercise"
   ]
  },
  {
   "cell_type": "markdown",
   "id": "4df88078",
   "metadata": {},
   "source": [
    "## Non-linear least-squares curve fitting with `scipy.optimize.curve_fit`\n",
    "While as Chemists we like to linearise data to then apply a linear regression, sometimes data is in a format that cannot be easily linearised and requires to fit the non-linear data with the appropriate function."
   ]
  },
  {
   "cell_type": "code",
   "execution_count": null,
   "id": "e9a5c00a",
   "metadata": {},
   "outputs": [],
   "source": [
    "# Import required packages\n",
    "from scipy.optimize import curve_fit\n",
    "import numpy as np\n",
    "import matplotlib.pyplot as plt\n",
    "from scipy.constants import pi,k,u # Pi, Boltzmann constant, atomic mass unit"
   ]
  },
  {
   "cell_type": "markdown",
   "id": "4cbc0b5c",
   "metadata": {},
   "source": [
    "### Maxwell-Boltzmann distribution\n",
    "We will determine the mean speed and temperature of argon."
   ]
  },
  {
   "cell_type": "code",
   "execution_count": null,
   "id": "a3ecac55",
   "metadata": {},
   "outputs": [],
   "source": [
    "# Generate some data with noise\n",
    "T = 300 # in K\n",
    "steps = 50\n",
    "v = np.linspace(1,1000,steps)\n",
    "m = 39.948*u # mass of argon in atomic mass units\n",
    "F = ((m/(2*pi*k*T)**1.5 * 4*pi*v**2 * np.exp(-m*v**2/(2*k*T)))/1e9+np.random.rand(steps))*1e9\n",
    "plt.scatter(v,F)"
   ]
  },
  {
   "cell_type": "code",
   "execution_count": null,
   "id": "5cb2ddc1",
   "metadata": {},
   "outputs": [],
   "source": [
    "def func(v,T,m):\n",
    "    \"\"\"Fitting function for a Maxwell-Boltzmann distribution.\"\"\"\n",
    "    return m/(2*pi*k*T)**1.5 * 4*pi*v**2 * np.exp(-m*v**2/(2*k*T))\n",
    "\n"
   ]
  },
  {
   "cell_type": "code",
   "execution_count": null,
   "id": "4030e65a",
   "metadata": {},
   "outputs": [],
   "source": [
    "# Performing the nonlinear fit which returns the fitting parameters \n",
    "# as a tuple (which is like an immutable list) and the covariance matrix.\n",
    "#\n",
    "# In the fit we assume the element also as an unknown i.e. as a fitting parameter together with the temperature.\n",
    "popt, pcov = curve_fit(func, v, F, p0=[250,1e-25])\n"
   ]
  },
  {
   "cell_type": "code",
   "execution_count": null,
   "id": "33b4692d",
   "metadata": {},
   "outputs": [],
   "source": [
    "plt.scatter(v,F,label=\"data\")\n",
    "plt.plot(v,func(v,*popt),label=f\"fit with T = {popt[0]:.1f} K, m = {popt[1]/u:.1f} amu\")\n",
    "plt.title(\"Fitted Maxwell-Boltzmann distribution\")\n",
    "plt.xlabel(r\"speed / m s$^{-1}$\")\n",
    "plt.ylabel(\"Intensitiy / arb. units\")\n",
    "plt.legend()\n",
    "plt.show()"
   ]
  },
  {
   "cell_type": "markdown",
   "id": "d39c119f",
   "metadata": {},
   "source": [
    "# TODO\n",
    "- Add example for unit conversion with `scipy.constants`\n",
    "- Add exercises to all sections (unit conversion, linear regression possibly based on first linearising data, non-linear fit)\n",
    "- add some questions / quizzes\n",
    "- add a few debugging examples where suitable"
   ]
  },
  {
   "cell_type": "markdown",
   "id": "a73b7e31",
   "metadata": {},
   "source": []
  }
 ],
 "metadata": {
  "kernelspec": {
   "display_name": ".venv",
   "language": "python",
   "name": "python3"
  },
  "language_info": {
   "codemirror_mode": {
    "name": "ipython",
    "version": 3
   },
   "file_extension": ".py",
   "mimetype": "text/x-python",
   "name": "python",
   "nbconvert_exporter": "python",
   "pygments_lexer": "ipython3",
   "version": "3.11.2"
  }
 },
 "nbformat": 4,
 "nbformat_minor": 5
}
