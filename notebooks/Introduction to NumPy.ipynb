{
 "cells": [
  {
   "cell_type": "markdown",
   "id": "805c8bc8-6f38-481c-be9a-ce2ba998d686",
   "metadata": {},
   "source": [
    "# An introduction to NumPy\n",
    "\n",
    "## Learning objectives\n",
    "\n",
    "- Create `numpy` arrays of one and two dimensions.\n",
    "\n",
    "- Perform mathematical operations on arrays.\n",
    "\n",
    "- Extract a single value from an array at a particular location.\n",
    "\n",
    "## Prerequisites\n",
    "\n",
    "- Variables\n",
    "\n",
    "- Lists"
   ]
  },
  {
   "cell_type": "markdown",
   "id": "5fc4dc12-62a2-42a0-af8d-451177ae071e",
   "metadata": {},
   "source": [
    "## Introduction\n",
    "\n",
    "`numpy` is a Python library that enables us to create and use arrays of variables. `numpy` is very useful for working with data, as we will explore in the lesson.\n",
    "\n",
    "The basic object of `numpy` is an array, this is a collection of variables that looks much like a `list` but can be multi-dimensional. `numpy` typically uses numeric variables, with arrays of either integers of floats."
   ]
  },
  {
   "cell_type": "markdown",
   "id": "bec760b3-cc91-4655-a988-c50cbca27385",
   "metadata": {},
   "source": [
    "### Import the NumPy library\n",
    "\n",
    "For `numpy`, the standard-practice alias is `np.`:"
   ]
  },
  {
   "cell_type": "code",
   "execution_count": null,
   "id": "928691dd-00ed-46db-83b9-85e480d48b52",
   "metadata": {},
   "outputs": [],
   "source": [
    "import numpy as np"
   ]
  },
  {
   "cell_type": "markdown",
   "id": "2718fca7-d13e-4add-979e-2425b70078ac",
   "metadata": {},
   "source": [
    "### Creating a NumPy array"
   ]
  },
  {
   "cell_type": "markdown",
   "id": "2b7964d7-a083-49c6-a701-99ecfc60bf60",
   "metadata": {},
   "source": [
    "Imagine running an experiment in the lab in which the concentration of one product over time is measured. Mole fractions of our product of 0.0, 0.05, 0.08, 0.1, 0.11 are measured as a time series.\n",
    "\n",
    "In order to create a `numpy` array of our data, it's easiest to first create a list of the data. (Is this the best way to introduce this?)"
   ]
  },
  {
   "cell_type": "code",
   "execution_count": null,
   "id": "d20e8fd6-69c8-404d-91d6-27df5a5ce96a",
   "metadata": {},
   "outputs": [],
   "source": [
    "product_fraction_list = [0.0, 0.05, 0.08, 0.1, 0.11]"
   ]
  },
  {
   "cell_type": "markdown",
   "id": "a607f43f-b622-442b-8596-a00ce7c4147c",
   "metadata": {},
   "source": [
    "The `numpy` `array()` function is used to create an array from a list."
   ]
  },
  {
   "cell_type": "code",
   "execution_count": null,
   "id": "62d77504-91ae-43c9-8384-af3a3c950f1e",
   "metadata": {},
   "outputs": [],
   "source": [
    "product_fraction_array = np.array(product_fraction_list)"
   ]
  },
  {
   "cell_type": "markdown",
   "id": "8b0c94b4-5091-424a-90db-337957c94fa5",
   "metadata": {},
   "source": [
    "Printing `product_fraction_array` allows inspection of the array."
   ]
  },
  {
   "cell_type": "code",
   "execution_count": null,
   "id": "8319e6b9-a709-4c6c-8c24-47b21aba0b31",
   "metadata": {},
   "outputs": [],
   "source": [
    "print(product_fraction_array)"
   ]
  },
  {
   "cell_type": "markdown",
   "id": "1ed4c5cd-bcc1-4b9f-b1b1-bcd9b8009041",
   "metadata": {},
   "source": [
    "`product_fraction_array` is a one dimensional array containing the experimental values of mole fraction."
   ]
  },
  {
   "cell_type": "markdown",
   "id": "f9a1237b-9e50-49de-b8b7-80c7c7874c0e",
   "metadata": {},
   "source": [
    "`numpy` also has function for creating arrays filled with zeros or ones. These functions are fandily named `zeros` and `ones`! For one-dimensional arrays, you have to pass the length of array that you want to create to the function."
   ]
  },
  {
   "cell_type": "code",
   "execution_count": null,
   "id": "4fbde00e-fca3-4e99-9ccf-1e825b2aaabc",
   "metadata": {},
   "outputs": [],
   "source": [
    "array_of_zeros = np.zeros(5)\n",
    "print(array_of_zeros)"
   ]
  },
  {
   "cell_type": "markdown",
   "id": "e831afad-609b-419f-ad71-17774439fa76",
   "metadata": {},
   "source": [
    "### Excercise"
   ]
  },
  {
   "cell_type": "markdown",
   "id": "bdfcca73-0230-4110-869e-9351d54624da",
   "metadata": {},
   "source": [
    "Create an array containing the following mole fractions of a reactant in a reaction: 0.5, 0.4, 0.37, 0.35, 0.34."
   ]
  },
  {
   "cell_type": "code",
   "execution_count": null,
   "id": "a68e2315-0776-4978-b7fa-0bc1780d0891",
   "metadata": {},
   "outputs": [],
   "source": []
  },
  {
   "cell_type": "markdown",
   "id": "a3a1d2c8-84dd-4462-933c-7f57cf318d45",
   "metadata": {},
   "source": [
    "Answer:\n",
    "\n",
    "```python\n",
    "reactant_fraction_list = [0.5, 0.4, 0.37, 0.35, 0.34]\n",
    "reactant_fraction_array = np.array(reactant_fraction_list)\n",
    "```"
   ]
  },
  {
   "cell_type": "markdown",
   "id": "d41fd57d-c124-495b-8c37-9943b48c518f",
   "metadata": {},
   "source": [
    "### Mathematical Operations"
   ]
  },
  {
   "cell_type": "markdown",
   "id": "004e8fd3-7b0d-4523-9d49-4a0d7de5e635",
   "metadata": {},
   "source": [
    "`numpy` arrays allow mathematical operations. The most basic mathematical operations involve a single array and an integer. For instance, we might want to turn our mole fraction into a percentage by multiplying every value by 100. This is simple through `numpy` as mathematical operations are applied to each element."
   ]
  },
  {
   "cell_type": "code",
   "execution_count": null,
   "id": "84535acd-cb25-4ba6-90ff-fdb5a4cfa694",
   "metadata": {},
   "outputs": [],
   "source": [
    "product_percentage_array = product_fraction_array * 100\n",
    "print(product_percentage_array)"
   ]
  },
  {
   "cell_type": "markdown",
   "id": "df8154d0-4b41-4a70-a3c2-e4a7b388066a",
   "metadata": {},
   "source": [
    "All mathematical operators work in the same element by element way, including `+`, `-`, `/` and `**`."
   ]
  },
  {
   "cell_type": "markdown",
   "id": "bedf8b8c-224c-40ee-b6f4-bac5d7883f7f",
   "metadata": {},
   "source": [
    "Mathematical operators also work between two arrays. For example, it would be possible to calculate the mole fraction of our known reactant and product at every time point by adding the two arrays together."
   ]
  },
  {
   "cell_type": "code",
   "execution_count": null,
   "id": "56a09393-fe8a-4d67-b89d-10a626bbb655",
   "metadata": {},
   "outputs": [],
   "source": [
    "summed_fraction_array = product_fraction_array + reactant_fraction_array\n",
    "print(summed_fraction_array)"
   ]
  },
  {
   "cell_type": "markdown",
   "id": "dd335fb5-c4eb-4256-9343-88863254adbd",
   "metadata": {},
   "source": [
    "Mathematical operations between two arrays works in an element by element way too. The first element in one array is added to the first element in the other array, and so on.\n",
    "\n",
    "If an attempt is made to add two arrays of different size together, this gives an error!"
   ]
  },
  {
   "cell_type": "code",
   "execution_count": null,
   "id": "39a68643-a5b7-4d83-838f-3cc8db6be500",
   "metadata": {},
   "outputs": [],
   "source": [
    "array_four = np.array([1,2,3,4])\n",
    "array_five = np.array([1,2,3,4,5])\n",
    "array_four + array_five"
   ]
  },
  {
   "cell_type": "markdown",
   "id": "8107eb92-6022-42b9-9852-17f181f548db",
   "metadata": {},
   "source": [
    "## Excercises"
   ]
  },
  {
   "cell_type": "markdown",
   "id": "f67fd141-122a-4573-b0b0-47ecdf151e85",
   "metadata": {},
   "source": [
    "Using the mole fraction of products and reactants given above, create an array containing the mole fraction of other reactants and products in the reaction."
   ]
  },
  {
   "cell_type": "code",
   "execution_count": null,
   "id": "bccc39cb-1d02-4664-ab69-b0e6f2a8d7a9",
   "metadata": {},
   "outputs": [],
   "source": []
  },
  {
   "cell_type": "markdown",
   "id": "7bdb72ca-d330-4f57-946f-d549882d821c",
   "metadata": {},
   "source": [
    "Answer:\n",
    "\n",
    "```python\n",
    "remaining_fraction_array = np.ones(5) - summed_fraction_array\n",
    "```"
   ]
  },
  {
   "cell_type": "markdown",
   "id": "14b0d8ba-f7e2-4c4e-b67d-48467a6c107d",
   "metadata": {},
   "source": [
    "The reaction time was also collected during the experiment. This data in minutes is: [0, 2, 4, 6, 8]. Create an array for this time data and convert the values to seconds."
   ]
  },
  {
   "cell_type": "code",
   "execution_count": null,
   "id": "fc444172-a526-4c9c-b554-519996ea8ee1",
   "metadata": {},
   "outputs": [],
   "source": []
  },
  {
   "cell_type": "markdown",
   "id": "af6876e7-dee8-4938-bf9e-36fdccb17d9c",
   "metadata": {},
   "source": [
    "Answer:\n",
    "\n",
    "```python\n",
    "minutes = np.array((0, 2, 4, 6, 8))\n",
    "seconds = minutes*60\n",
    "```"
   ]
  },
  {
   "cell_type": "markdown",
   "id": "1a780dbc-b9f2-4029-9faf-bbdb1ff66732",
   "metadata": {},
   "source": [
    "## Indexing elements"
   ]
  },
  {
   "cell_type": "markdown",
   "id": "c92bd0ee-30bc-41f4-85bd-f506e5c0f164",
   "metadata": {},
   "source": [
    "Individual elements in `numpy` arrays can be accessed very simply using indexing. Indexing of one-dimensional arrays works very similarly to lists, i.e. the number of the element is given in square brackets.\n",
    "\n",
    "For example, to take the first value of product mole fraction from `product_fraction_array`:"
   ]
  },
  {
   "cell_type": "code",
   "execution_count": null,
   "id": "bc94118d-66f3-426e-8c92-adeaa4bb40d7",
   "metadata": {},
   "outputs": [],
   "source": [
    "first_element = product_fraction_array[0]\n",
    "print(first_element)"
   ]
  },
  {
   "cell_type": "markdown",
   "id": "1230059e-37f8-42cb-a123-bb31f07898f5",
   "metadata": {},
   "source": [
    "As ever in Python, indexing starts at 0, i.e. the first element is at position `0` and so on."
   ]
  },
  {
   "cell_type": "markdown",
   "id": "26e8db32-f232-4ab1-a776-da17aea0becb",
   "metadata": {},
   "source": [
    "### Excercise"
   ]
  },
  {
   "cell_type": "markdown",
   "id": "7e96792f-cc39-487b-9d65-44ae4ea1e3e7",
   "metadata": {},
   "source": [
    "Calculate the difference in time (in seconds) between the second and fifth time points in the time series used in the previous excercises."
   ]
  },
  {
   "cell_type": "code",
   "execution_count": null,
   "id": "70c74f43-b1f7-4c38-9a77-402c9a20c7f5",
   "metadata": {},
   "outputs": [],
   "source": []
  },
  {
   "cell_type": "markdown",
   "id": "02bf27af-222f-4263-8331-7401abbaa538",
   "metadata": {},
   "source": [
    "Answer:\n",
    "\n",
    "```python\n",
    "time_difference = seconds[4] - seconds[1]\n",
    "```"
   ]
  },
  {
   "cell_type": "markdown",
   "id": "bd83ef73-062e-44b1-95e8-58c5c6f47fd4",
   "metadata": {},
   "source": [
    "## Multi-dimensional Arrays"
   ]
  },
  {
   "cell_type": "markdown",
   "id": "0582dbb6-43ae-4f10-b5b7-b83aeb0e96dd",
   "metadata": {},
   "source": [
    "`numpy` arrays are not just restricted to one dimension. There are no restrictions on the number of dimensions for numpy arrays.\n",
    "\n",
    "For example, it's possible to combine both the concentration and time data in a 2D `numpy` array. One possible way to do this is to combine two lists into a list of lists."
   ]
  },
  {
   "cell_type": "code",
   "execution_count": null,
   "id": "4988bc0c-24ab-4003-b7ec-2f18cefaa81c",
   "metadata": {},
   "outputs": [],
   "source": [
    "combined_list = (product_fraction_list, (0, 120, 240, 360, 480))"
   ]
  },
  {
   "cell_type": "markdown",
   "id": "2610da37-4524-46a5-80de-f785ea1c25f4",
   "metadata": {},
   "source": [
    "Using the `array` function on a list of lists creates a multi-dimensional array."
   ]
  },
  {
   "cell_type": "code",
   "execution_count": null,
   "id": "393c10d1-ba47-4571-8bdf-0db5f7884259",
   "metadata": {},
   "outputs": [],
   "source": [
    "combined_array = np.array(combined_list)"
   ]
  },
  {
   "cell_type": "markdown",
   "id": "7a412030-2e7a-4713-8f6a-69547dcc6ca2",
   "metadata": {},
   "source": [
    "Creating a 2D array also works from a list of 1D arrays. Note, the lists (or arrays) must be the same length for this to work."
   ]
  },
  {
   "cell_type": "markdown",
   "id": "c94bc156-6041-4007-a7f9-f1c3b92bfd92",
   "metadata": {},
   "source": [
    "## Excercise"
   ]
  },
  {
   "cell_type": "markdown",
   "id": "9a8ea97d-81a7-47c2-adb5-b89e375a1cb6",
   "metadata": {},
   "source": [
    "Create a two-dimensional array containing the `reactant_fraction_array` and `seconds`."
   ]
  },
  {
   "cell_type": "code",
   "execution_count": null,
   "id": "e68cb100-2b43-4d7f-a839-fe095fb78f27",
   "metadata": {},
   "outputs": [],
   "source": []
  },
  {
   "cell_type": "markdown",
   "id": "bd61c85b-1f73-4e6d-92b4-94ebe6a1fcfa",
   "metadata": {},
   "source": [
    "Answer:\n",
    "\n",
    "```python\n",
    "reaction_array = np.array((reactant_fraction_array,seconds))\n",
    "```"
   ]
  },
  {
   "cell_type": "markdown",
   "id": "48169543-098f-4cc8-84c1-7718b10b16f9",
   "metadata": {},
   "source": [
    "## Learning Objectives\n",
    "- Create numpy arrays of one and two dimensions.\n",
    "\n",
    "- Perform mathematical operations on arrays.\n",
    "\n",
    "- Understand how to index `numpy` arrays."
   ]
  },
  {
   "cell_type": "markdown",
   "id": "83d2a72b-a435-4178-aa90-c70bdcce28ab",
   "metadata": {},
   "source": [
    "## TODO\n",
    "\n",
    "Check content vs other NumPy lesson.\n",
    "\n",
    "Add more complex excercises."
   ]
  }
 ],
 "metadata": {
  "kernelspec": {
   "display_name": "python_in_chemistry",
   "language": "python",
   "name": "python_in_chemistry"
  },
  "language_info": {
   "codemirror_mode": {
    "name": "ipython",
    "version": 3
   },
   "file_extension": ".py",
   "mimetype": "text/x-python",
   "name": "python",
   "nbconvert_exporter": "python",
   "pygments_lexer": "ipython3",
   "version": "3.13.2"
  }
 },
 "nbformat": 4,
 "nbformat_minor": 5
}
