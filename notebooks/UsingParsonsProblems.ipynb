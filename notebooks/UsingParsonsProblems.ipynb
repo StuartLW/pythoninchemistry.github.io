{
 "cells": [
  {
   "cell_type": "markdown",
   "id": "8fffd7ef",
   "metadata": {},
   "source": [
    "# Parsons Problems in Jupyter Notebooks\n",
    "\n",
    "(a guide for instructors)\n",
    "\n",
    "Parsons problems are useful problems to check if students undestand various aspects of code from pseudo code and process flow to indenting in python. Thanks go to the Edinburgh python in chemistry team for pointing these problems out at the first UK Python in Chemistry conference.  Deploying these used to be fairly easy thanks to a website where you could construct your problems and then embed them in your notebook, however this site now seems to have become defunct.  The original site and most deployed Parsons problems seem to be based on [The JS parsons code](https://github.com/js-parsons/js-parsons) available on github. Direct implementation in a Jupyter notebook however seems very hard due to the number of libaries that are required to make the javascript load correctly in a markdown cell.  The best solution therefore is to find an alternative host for embedding the problem and then bring the code in via an IFrame.  The system works on both Codepen and JSFiddle however the embedding from JSFiddle does not seem to render correctly in my hands.  There may be other possibilites and others may be able to solve the JSFiddle issue"
   ]
  },
  {
   "cell_type": "markdown",
   "id": "397f7eb6",
   "metadata": {},
   "source": [
    "## Embedding a Parsons problem\n",
    "Once your Parsons problem is constructed (more below) you just need to embed it as follows. Executing the code renders the answer. Students can click Get feedback for it to mark the answer"
   ]
  },
  {
   "cell_type": "code",
   "execution_count": null,
   "id": "59da754b",
   "metadata": {},
   "outputs": [],
   "source": [
    "from IPython.display import IFrame\n",
    "\n",
    "IFrame(\n",
    "    src=\"https://codepen.io/StuartLW/embed/yyyBZjJ?default-tab=result\",\n",
    "    width=1500,\n",
    "    height=600,\n",
    ")"
   ]
  },
  {
   "cell_type": "markdown",
   "id": "7b3ec7e8",
   "metadata": {},
   "source": [
    "## Creating your Parsons problem\n",
    "Go to the example problem on CodePen https://codepen.io/StuartLW/pen/yyyBZjJ (you may need to create a free account) and in the bottom right click Fork.  This should create a new copy of the problem for you to edit. \n",
    "- In the HTML box you can edit the instructions\n",
    "- In the JS box edit the const initial to be your target code including any indentation\n",
    "- you can add a distracting entry by adding the dummy line at the end with #distractor after the command\n",
    "\n",
    "Thats it - your problem should now render OK in the results section\n",
    "- Save your codepen\n",
    "- from the bottom right click Embed - a new dialogue opens\n",
    "- in the top pane make sure only result is selected\n",
    "- click iframe in the lower right tab and copy the src from the displayed code to use in your notebook\n",
    "\n"
   ]
  },
  {
   "cell_type": "code",
   "execution_count": null,
   "id": "437c26b2",
   "metadata": {},
   "outputs": [],
   "source": [
    "IFrame(\n",
    "    src=\"https://codepen.io/StuartLW/embed/gbbYZvo?default-tab=result\",\n",
    "    width=1500,\n",
    "    height=650,\n",
    ")"
   ]
  },
  {
   "cell_type": "markdown",
   "id": "a98fb8e6",
   "metadata": {},
   "source": [
    "## Advanced information\n",
    "\n",
    "In addition to the HTML, CSS and JS that is shown on the CodePen page there are a number of imports from the github site that are used directly in making this work. These are listed in settings. There are 2 external CSS style sheets and 7 JS scripts that are loaded.  The order of loading the js scripts matters so stick with what is logged here"
   ]
  },
  {
   "cell_type": "markdown",
   "id": "6e284d4a",
   "metadata": {},
   "source": [
    "## TODO\n",
    "Looking at the JS-Parsons github site there are possible some other interesting features within the capabilities of this code, but sadly it is very poorly documented with examples that miss key information.  Others may be able to add examples to this notebook that exploit different functionality to demonstrate different coding concepts."
   ]
  }
 ],
 "metadata": {
  "kernelspec": {
   "display_name": "teaching",
   "language": "python",
   "name": "python3"
  },
  "language_info": {
   "codemirror_mode": {
    "name": "ipython",
    "version": 3
   },
   "file_extension": ".py",
   "mimetype": "text/x-python",
   "name": "python",
   "nbconvert_exporter": "python",
   "pygments_lexer": "ipython3",
   "version": "3.12.2"
  }
 },
 "nbformat": 4,
 "nbformat_minor": 5
}
