{
 "cells": [
  {
   "cell_type": "markdown",
   "metadata": {},
   "source": [
    "## WIP NOTES\n",
    "- loop while its condition remains True\n",
    "- applications? -> program inputs, chemical?"
   ]
  },
  {
   "cell_type": "markdown",
   "metadata": {},
   "source": [
    "# Prerequisites: \n",
    "- logic/boolean \n",
    "- comparison\n",
    "- `if` statements\n",
    "- `for` loops\n",
    "\n",
    "# Learning Objectives (WIP)\n",
    "- Understand how to construct and use `while` loops\n",
    "- Know how to control iterations in a loop\n",
    "\n",
    "# The ```while``` Loop\n",
    "\n",
    "A `while` loop is similar to a `for` loop [LINK] with the main difference being it will continuosly loop <em>while</em> a condition is `True`. As as example see the cell below which prints integers from 1 to 5."
   ]
  },
  {
   "cell_type": "code",
   "execution_count": null,
   "metadata": {},
   "outputs": [],
   "source": [
    "count=0\n",
    "while count<5:\n",
    "    count+=1\n",
    "    print(count)"
   ]
  },
  {
   "cell_type": "markdown",
   "metadata": {},
   "source": [
    "The first line defines our starting value and the second initiates our loop.\n",
    "```python\n",
    "while(count<5):\n",
    "```\n",
    "Looking closer at this line we have:\n",
    "\n",
    "- `while` which signals we want to start a loop\n",
    "- `count<5` is our conditional statement\n",
    "- `:` signals the start of the loop\n",
    "\n",
    "If our conditional statement is `True` the code prints out the current value of `count` and increases it by one for each iteration using the `+=` operator.\n",
    "\n",
    "In general `while` loops take the structure:\n",
    "\n",
    "```python\n",
    "while condition:\n",
    "    code \n",
    "    block\n",
    "```"
   ]
  },
  {
   "cell_type": "markdown",
   "metadata": {},
   "source": [
    "# Exercise 1?\n",
    "1. create a `while` loop to print even integers from zero to 10"
   ]
  },
  {
   "cell_type": "code",
   "execution_count": null,
   "metadata": {},
   "outputs": [],
   "source": []
  },
  {
   "cell_type": "markdown",
   "metadata": {},
   "source": [
    "## MORE WIP NOTES \n",
    "- wait for input\n",
    "- `break` or `continue` \n"
   ]
  },
  {
   "cell_type": "markdown",
   "metadata": {},
   "source": [
    "## Infinite `while` loops\n",
    "\n",
    "When constructing `while` loops be wary of your condition, one common bug can be creating a loop that runs forever:\n",
    "\n",
    "```python\n",
    "count = 5\n",
    "while count != 0:\n",
    "    print(count)\n",
    "    count -= 2\n",
    "```\n",
    "Bug fix? or explain that condition is never met?"
   ]
  },
  {
   "cell_type": "code",
   "execution_count": null,
   "metadata": {},
   "outputs": [],
   "source": [
    "WIP EXAMPLE -- search through file until wanted line is found"
   ]
  },
  {
   "cell_type": "code",
   "execution_count": null,
   "metadata": {},
   "outputs": [],
   "source": [
    "# Password example??\n",
    "\n",
    "MAX_ATTEMPTS = 3\n",
    "\n",
    "correct_password = \"secret123\"\n",
    "attempts = 0\n",
    "\n",
    "while True:\n",
    "    password = input(\"Password: \").strip()\n",
    "    attempts += 1\n",
    "\n",
    "    if password == correct_password:\n",
    "        print(\"Login successful! Welcome!\")\n",
    "        break\n",
    "\n",
    "    if attempts >= MAX_ATTEMPTS:\n",
    "        print(\"Too many failed attempts.\")\n",
    "        break\n",
    "    else:\n",
    "        print(f\"Incorrect password. {MAX_ATTEMPTS - attempts} attempts left.\")"
   ]
  },
  {
   "cell_type": "markdown",
   "metadata": {},
   "source": [
    "## TO DO\n",
    "- Useful chemical applications/exercises?\n",
    "- `break`, `continue`"
   ]
  },
  {
   "cell_type": "markdown",
   "metadata": {},
   "source": []
  }
 ],
 "metadata": {
  "kernelspec": {
   "display_name": "base",
   "language": "python",
   "name": "python3"
  },
  "language_info": {
   "codemirror_mode": {
    "name": "ipython",
    "version": 3
   },
   "file_extension": ".py",
   "mimetype": "text/x-python",
   "name": "python",
   "nbconvert_exporter": "python",
   "pygments_lexer": "ipython3",
   "version": "3.12.7"
  }
 },
 "nbformat": 4,
 "nbformat_minor": 2
}
