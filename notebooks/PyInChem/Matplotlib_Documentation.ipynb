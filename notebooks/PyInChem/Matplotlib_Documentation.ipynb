{
 "cells": [
  {
   "cell_type": "code",
   "execution_count": null,
   "id": "4c983a83-8172-4b50-b428-b65eb006acc2",
   "metadata": {},
   "outputs": [],
   "source": [
    "import numpy as np\n",
    "import pandas as pd\n",
    "import matplotlib.pyplot as plt"
   ]
  },
  {
   "cell_type": "markdown",
   "id": "9b6f0144-2402-43ec-927a-33517502a59d",
   "metadata": {},
   "source": [
    "## Searching the Docs - Matplotlib!\n",
    "#### Introduction:"
   ]
  },
  {
   "cell_type": "markdown",
   "id": "75ab876e-424b-4cd3-929e-f6d40c13cc67",
   "metadata": {},
   "source": [
    "### Task 1: Finding argument options from the documentation page\n",
    "\n",
    "Here is some code to create a linear plot. The datapoints have been defined as a circle.\n",
    "1. Can you change the markers to crosses?\n",
    "   > **Hint:** Where has the datapoint style been defined in the code?\n",
    "2. Now can you change them to be squares?\n",
    "   > **Hint:** Take a look at the `matplotlib.markers` documentation page [here](matplotlib.org/stable/api/markers_api.html#module-matplotlib.markers).\n",
    "3. Can you change the linestyle to be a dotted line?\n",
    "   > **Hint:** Find the linestyle menu on `matplotlib.pyplot.plot` documentation page [here](https://matplotlib.org/stable/api/_as_gen/matplotlib.pyplot.plot.html).\n",
    "4. Now can you increase the data point size?\n",
    "   > **Hint:** What did you do in task 3?"
   ]
  },
  {
   "cell_type": "code",
   "execution_count": null,
   "id": "ab5c3579-d62e-4751-b182-682fc4c2531f",
   "metadata": {},
   "outputs": [],
   "source": [
    "T = np.array([700, 750, 800, 850, 900])\n",
    "k = np.array([1.5e-5, 4.9e-4, 5.9e-3, 4.7e-2, 5.5e-1])\n",
    "\n",
    "plt.plot(1000/T, np.log(k), marker='o', linestyle='-')\n",
    "plt.show()"
   ]
  },
  {
   "cell_type": "markdown",
   "id": "95dfea33-1642-4653-8a80-ba4dc8ff3d9e",
   "metadata": {},
   "source": [
    "### Task 2: Exploring Pyplot Functions"
   ]
  },
  {
   "cell_type": "markdown",
   "id": "321ad4e0-b412-49af-b941-fdadf740617c",
   "metadata": {},
   "source": [
    "1. Explore the [matplotlib.pyplot](https://matplotlib.org/stable/api/pyplot_summary.html#module-matplotlib.pyplot) documentation page to find the function to change the y axis scale to a log scale. Once found, ammend the code below accordingly.\n",
    "2. Explore the [matplotlib.pyplot](https://matplotlib.org/stable/api/pyplot_summary.html#module-matplotlib.pyplot) documentation page to format the x and y axis major and minor ticks. Update the code accordingly. "
   ]
  },
  {
   "cell_type": "code",
   "execution_count": null,
   "id": "951f91a1-0e80-43ec-aaa0-97ac7976432d",
   "metadata": {},
   "outputs": [],
   "source": [
    "data = np.genfromtxt(\"Venus data.csv\", skip_header=1, delimiter=',', dtype=float, usecols=(1, 2, 3))\n",
    "\n",
    "plt.plot(data[:, 0], data[:, 1], color='b', label=\"SO\")\n",
    "plt.plot(data[:, 0], data[:, 2], color='r', label=r\"SO$_2$\")\n",
    "plt.xlabel('Altitude (km)', fontsize=14)\n",
    "plt.ylabel('Mixing Ratio (ppm)', fontsize=14)\n",
    "plt.xlim(0, 180)\n",
    "plt.ylim(0, 1e-5)\n",
    "plt.minorticks_on()\n",
    "plt.legend(frameon=False, fontsize=14)\n",
    "plt.show()"
   ]
  },
  {
   "cell_type": "markdown",
   "id": "3ffabcd1-fc1e-4394-9524-3eb4271e6a34",
   "metadata": {},
   "source": [
    "### Task 3: Different Plot Types\n",
    "\n",
    "1. Create a boxplot from data and format it appropriately\n",
    "2. Create a violinplot (displaying mean values) and format it appropriately"
   ]
  },
  {
   "cell_type": "code",
   "execution_count": null,
   "id": "510c0e66-df4f-42ea-91dd-c35a8710e6bc",
   "metadata": {},
   "outputs": [],
   "source": [
    "data = np.genfromtxt(\"Vit C in Orange Juice.csv\", skip_header=1, delimiter=',', dtype=float)\n",
    "\n",
    "plt.boxplot(data)\n",
    "plt.show()\n",
    "\n",
    "plt.violinplot(data, showmeans=True)\n",
    "plt.show()"
   ]
  },
  {
   "cell_type": "markdown",
   "id": "b1bbdbd4-78ce-4010-a41d-0ac3dabe7d39",
   "metadata": {},
   "source": [
    "# TODO:\n",
    "\n",
    "- Searching\n",
    "- Understanding scary examples\n",
    "- A non-coding activity (MCQ/Drag and drop style)"
   ]
  },
  {
   "cell_type": "code",
   "execution_count": null,
   "id": "b204a3c2-ed09-4725-b712-acb6ffcd3645",
   "metadata": {},
   "outputs": [],
   "source": []
  }
 ],
 "metadata": {
  "kernelspec": {
   "display_name": "Python 3 (ipykernel)",
   "language": "python",
   "name": "python3"
  },
  "language_info": {
   "codemirror_mode": {
    "name": "ipython",
    "version": 3
   },
   "file_extension": ".py",
   "mimetype": "text/x-python",
   "name": "python",
   "nbconvert_exporter": "python",
   "pygments_lexer": "ipython3",
   "version": "3.12.8"
  }
 },
 "nbformat": 4,
 "nbformat_minor": 5
}
